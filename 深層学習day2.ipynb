{
  "nbformat": 4,
  "nbformat_minor": 0,
  "metadata": {
    "colab": {
      "name": "深層学習day2.ipynb",
      "provenance": [],
      "collapsed_sections": [],
      "authorship_tag": "ABX9TyMVOrr1ddp09Id+mPHWgOX5",
      "include_colab_link": true
    },
    "kernelspec": {
      "name": "python3",
      "display_name": "Python 3"
    },
    "language_info": {
      "name": "python"
    }
  },
  "cells": [
    {
      "cell_type": "markdown",
      "metadata": {
        "id": "view-in-github",
        "colab_type": "text"
      },
      "source": [
        "<a href=\"https://colab.research.google.com/github/lake198/Study-AI/blob/main/%E6%B7%B1%E5%B1%A4%E5%AD%A6%E7%BF%92day2.ipynb\" target=\"_parent\"><img src=\"https://colab.research.google.com/assets/colab-badge.svg\" alt=\"Open In Colab\"/></a>"
      ]
    },
    {
      "cell_type": "code",
      "source": [
        "from google.colab import drive\n",
        "drive.mount('/content/drive')"
      ],
      "metadata": {
        "colab": {
          "base_uri": "https://localhost:8080/"
        },
        "id": "SP3bZfw0evMR",
        "outputId": "9758bd8e-251c-4d3b-b37f-bbad09e3d17d"
      },
      "execution_count": null,
      "outputs": [
        {
          "output_type": "stream",
          "name": "stdout",
          "text": [
            "Mounted at /content/drive\n"
          ]
        }
      ]
    },
    {
      "cell_type": "code",
      "source": [
        "import sys\n",
        "sys.path.append('/content/drive/My Drive/Colab Notebooks/Study_AI/DNN_code_colab_lesson_1_2')"
      ],
      "metadata": {
        "id": "PGv_dpTke5Nw"
      },
      "execution_count": null,
      "outputs": []
    },
    {
      "cell_type": "code",
      "source": [
        "from common import functions\n",
        "from common import optimizer\n",
        "from common import layers\n",
        "\n",
        "import numpy as np\n",
        "import matplotlib.pyplot as plt"
      ],
      "metadata": {
        "id": "bgwW52qXN4Ml"
      },
      "execution_count": null,
      "outputs": []
    },
    {
      "cell_type": "markdown",
      "source": [
        "# Section1: 勾配消失問題"
      ],
      "metadata": {
        "id": "1wLIuWbY9YbR"
      }
    },
    {
      "cell_type": "markdown",
      "source": [
        "誤差逆伝搬にてニューラルネットワークを学習する際に、損失関数の勾配が限りなく小さくなり、学習が進まなくなる場合がある。これを勾配消失と呼ぶ。例えば活性化関数にシグモイド関数を用いた場合、層が進むごとに0~0.25が乗算される。従って、層が深いニューラルネットワークでは入力層付近では勾配が非常に小さくなってしまう。これを回避するために以下のような対策が取られる。\\\n",
        "\n",
        "# ReLU関数\n",
        "勾配消失問題を回避する方法の一つとして、活性化関数にReLU関数を用いる。ReLU関数は入力値が正の場合はそのままの値を返し、負の場合は0を返す。この性質により各層の発火しているノードではそのまま値が次の層に伝わるので勾配が消失しない。\n",
        "\n",
        "# 初期値設定\n",
        "適切な初期値を与えることで学習の速度を速めることができる。活性化関数にシグモイド関数やtanh関数を用いる場合は、前の層のノード数 $n$ に対して初期の重みを平均値0、分散 $\\frac{1}{\\sqrt{n}}$ の正規分布とするXavierの初期値を用いると良い。またReLU関数を用いる場合はXavierの初期値に $\\sqrt{2}$ を乗算したHeの初期値を用いると良い。\n",
        "\n",
        "# バッチ正規化\n",
        "バッチ単位で活性化関数への入力値、または活性化関数の出力値を、平均0、分散1の正規分布に従うように変換する。\n",
        "\n"
      ],
      "metadata": {
        "id": "Jj6-21pG9fbN"
      }
    },
    {
      "cell_type": "markdown",
      "source": [
        "## 確認テスト\n",
        "\\\n",
        "<img src=\"https://drive.google.com/uc?export=view&id=1slVyalKxnT7Rp3hfMQMBn7-9yEzquE53\" width=50%>\n"
      ],
      "metadata": {
        "id": "_MLLXK5tL1gu"
      }
    },
    {
      "cell_type": "code",
      "metadata": {
        "id": "h_2Y_WjfjkB4",
        "colab": {
          "base_uri": "https://localhost:8080/",
          "height": 312
        },
        "outputId": "12451e9f-a9d6-42b4-d376-9e10663ddee0"
      },
      "source": [
        "# Sigmoid 関数による勾配消失\n",
        "\n",
        "from lesson_2.multi_layer_net import MultiLayerNet\n",
        "\n",
        "# データの読み込み\n",
        "(x_train, d_train), (x_test, d_test) = load_mnist(normalize=True, one_hot_label=True)\n",
        "\n",
        "print(\"データ読み込み完了\")\n",
        "\n",
        "network = MultiLayerNet(input_size=784, hidden_size_list=[40, 20], output_size=10, activation='sigmoid', weight_init_std=0.01)\n",
        "\n",
        "iters_num = 2000\n",
        "train_size = x_train.shape[0]\n",
        "batch_size = 100\n",
        "learning_rate = 0.1\n",
        "\n",
        "train_loss_list = []\n",
        "accuracies_train = []\n",
        "accuracies_test = []\n",
        "\n",
        "plot_interval=10\n",
        "\n",
        "for i in range(iters_num):\n",
        "    batch_mask = np.random.choice(train_size, batch_size)\n",
        "    x_batch = x_train[batch_mask]\n",
        "    d_batch = d_train[batch_mask]\n",
        "\n",
        "    # 勾配\n",
        "    grad = network.gradient(x_batch, d_batch)\n",
        "    \n",
        "    for key in ('W1', 'W2', 'W3', 'b1', 'b2', 'b3'):\n",
        "        network.params[key] -= learning_rate * grad[key]\n",
        "    \n",
        "    loss = network.loss(x_batch, d_batch)\n",
        "    train_loss_list.append(loss)\n",
        "    \n",
        "    if (i + 1) % plot_interval == 0:\n",
        "        accr_test = network.accuracy(x_test, d_test)\n",
        "        accuracies_test.append(accr_test)        \n",
        "        accr_train = network.accuracy(x_batch, d_batch)\n",
        "        accuracies_train.append(accr_train)\n",
        "\n",
        "        # print('Generation: ' + str(i+1) + '. 正答率(トレーニング) = ' + str(accr_train))\n",
        "        # print('                : ' + str(i+1) + '. 正答率(テスト) = ' + str(accr_test))\n",
        "        \n",
        "lists = range(0, iters_num, plot_interval)\n",
        "plt.plot(lists, accuracies_train, label=\"training set\")\n",
        "plt.plot(lists, accuracies_test,  label=\"test set\")\n",
        "plt.legend(loc=\"lower right\")\n",
        "plt.title(\"accuracy\")\n",
        "plt.xlabel(\"count\")\n",
        "plt.ylabel(\"accuracy\")\n",
        "plt.ylim(0, 1.0)\n",
        "# グラフの表示\n",
        "plt.show()"
      ],
      "execution_count": null,
      "outputs": [
        {
          "output_type": "stream",
          "name": "stdout",
          "text": [
            "データ読み込み完了\n"
          ]
        },
        {
          "output_type": "display_data",
          "data": {
            "image/png": "[encoded data removed]",
            "text/plain": [
              "<Figure size 432x288 with 1 Axes>"
            ]
          },
          "metadata": {
            "needs_background": "light"
          }
        }
      ]
    },
    {
      "cell_type": "code",
      "metadata": {
        "id": "B-UQOGoDjkB9",
        "colab": {
          "base_uri": "https://localhost:8080/",
          "height": 295
        },
        "outputId": "32136d9a-dbfb-4c70-b0b8-bee1c6c2bf09"
      },
      "source": [
        "# 活性化関数に ReLU関数 を使用 \n",
        "\n",
        "# データの読み込み\n",
        "(x_train, d_train), (x_test, d_test) = load_mnist(normalize=True, one_hot_label=True)\n",
        "\n",
        "# print(\"データ読み込み完了\")\n",
        "\n",
        "network = MultiLayerNet(input_size=784, hidden_size_list=[40, 20], output_size=10, activation='relu', weight_init_std=0.01)\n",
        "\n",
        "iters_num = 2000\n",
        "train_size = x_train.shape[0]\n",
        "batch_size = 100\n",
        "learning_rate = 0.1\n",
        "\n",
        "train_loss_list = []\n",
        "accuracies_train = []\n",
        "accuracies_test = []\n",
        "\n",
        "plot_interval=10\n",
        "\n",
        "for i in range(iters_num):\n",
        "    batch_mask = np.random.choice(train_size, batch_size)\n",
        "    x_batch = x_train[batch_mask]\n",
        "    d_batch = d_train[batch_mask]\n",
        "\n",
        "    # 勾配\n",
        "    grad = network.gradient(x_batch, d_batch)\n",
        "    \n",
        "    for key in ('W1', 'W2', 'W3', 'b1', 'b2', 'b3'):\n",
        "        network.params[key] -= learning_rate * grad[key]\n",
        "    \n",
        "    loss = network.loss(x_batch, d_batch)\n",
        "    train_loss_list.append(loss)\n",
        "    \n",
        "    if (i + 1) % plot_interval == 0:\n",
        "        accr_test = network.accuracy(x_test, d_test)\n",
        "        accuracies_test.append(accr_test)        \n",
        "        accr_train = network.accuracy(x_batch, d_batch)\n",
        "        accuracies_train.append(accr_train)\n",
        "\n",
        "        # print('Generation: ' + str(i+1) + '. 正答率(トレーニング) = ' + str(accr_train))\n",
        "        # print('                : ' + str(i+1) + '. 正答率(テスト) = ' + str(accr_test))\n",
        "                \n",
        "lists = range(0, iters_num, plot_interval)\n",
        "plt.plot(lists, accuracies_train, label=\"training set\")\n",
        "plt.plot(lists, accuracies_test,  label=\"test set\")\n",
        "plt.legend(loc=\"lower right\")\n",
        "plt.title(\"accuracy\")\n",
        "plt.xlabel(\"count\")\n",
        "plt.ylabel(\"accuracy\")\n",
        "plt.ylim(0, 1.0)\n",
        "# グラフの表示\n",
        "plt.show()"
      ],
      "execution_count": null,
      "outputs": [
        {
          "output_type": "display_data",
          "data": {
            "image/png": "[encoded data removed]",
            "text/plain": [
              "<Figure size 432x288 with 1 Axes>"
            ]
          },
          "metadata": {
            "needs_background": "light"
          }
        }
      ]
    },
    {
      "cell_type": "code",
      "metadata": {
        "id": "sL5lBOxZjkCD",
        "colab": {
          "base_uri": "https://localhost:8080/",
          "height": 295
        },
        "outputId": "28b3a76f-87a0-418b-84a0-1d433079b720"
      },
      "source": [
        "# 活性化関数にReLU関数使用　かつ　He の初期値を使用\n",
        "\n",
        "# データの読み込み\n",
        "(x_train, d_train), (x_test, d_test) = load_mnist(normalize=True, one_hot_label=True)\n",
        "\n",
        "# print(\"データ読み込み完了\")\n",
        "\n",
        "network = MultiLayerNet(input_size=784, hidden_size_list=[40, 20], output_size=10, activation='relu', weight_init_std='He')\n",
        "\n",
        "iters_num = 2000\n",
        "train_size = x_train.shape[0]\n",
        "batch_size = 100\n",
        "learning_rate = 0.1\n",
        "\n",
        "train_loss_list = []\n",
        "accuracies_train = []\n",
        "accuracies_test = []\n",
        "\n",
        "plot_interval=10\n",
        "\n",
        "for i in range(iters_num):\n",
        "    batch_mask = np.random.choice(train_size, batch_size)\n",
        "    x_batch = x_train[batch_mask]\n",
        "    d_batch = d_train[batch_mask]\n",
        "\n",
        "    # 勾配\n",
        "    grad = network.gradient(x_batch, d_batch)\n",
        "    \n",
        "    for key in ('W1', 'W2', 'W3', 'b1', 'b2', 'b3'):\n",
        "        network.params[key] -= learning_rate * grad[key]\n",
        "    \n",
        "    loss = network.loss(x_batch, d_batch)\n",
        "    train_loss_list.append(loss)\n",
        "    \n",
        "    if (i + 1) % plot_interval == 0:\n",
        "        accr_test = network.accuracy(x_test, d_test)\n",
        "        accuracies_test.append(accr_test)        \n",
        "        accr_train = network.accuracy(x_batch, d_batch)\n",
        "        accuracies_train.append(accr_train)\n",
        "        \n",
        "        # print('Generation: ' + str(i+1) + '. 正答率(トレーニング) = ' + str(accr_train))\n",
        "        # print('                : ' + str(i+1) + '. 正答率(テスト) = ' + str(accr_test))\n",
        "        \n",
        "lists = range(0, iters_num, plot_interval)\n",
        "plt.plot(lists, accuracies_train, label=\"training set\")\n",
        "plt.plot(lists, accuracies_test,  label=\"test set\")\n",
        "plt.legend(loc=\"lower right\")\n",
        "plt.title(\"accuracy\")\n",
        "plt.xlabel(\"count\")\n",
        "plt.ylabel(\"accuracy\")\n",
        "plt.ylim(0, 1.0)\n",
        "# グラフの表示\n",
        "plt.show()"
      ],
      "execution_count": null,
      "outputs": [
        {
          "output_type": "display_data",
          "data": {
            "image/png": "[encoded data removed]",
            "text/plain": [
              "<Figure size 432x288 with 1 Axes>"
            ]
          },
          "metadata": {
            "needs_background": "light"
          }
        }
      ]
    },
    {
      "cell_type": "markdown",
      "source": [
        "\n",
        "# [Section2]　学習率最適化手法"
      ],
      "metadata": {
        "id": "ycGcGFb33d7F"
      }
    },
    {
      "cell_type": "markdown",
      "source": [
        "パラメータを更新する際に、学習率が大きすぎると勾配が発散してしまい学習を進めても最適値に収束しない。また学習率が小さすぎると学習の進みが遅くなり、また局所的最適値に収束してしまい、真の最適値に到達できない場合がある。これらを回避するために、以下の学習率最適化手法が用いられる。\n",
        "# ◇モメンタム\n",
        "パラメータ更新の際に、前回のパラメータ更新量 $\\Delta {\\bf w}$ を定数倍した慣性項を加える。収束が早くなり、また大局的最適解に到達しやすくなる。\n",
        "# AdaGrad\n",
        "パラメータ更新毎に勾配の2乗を足してパラメータ $h$ を更新する。学習率をこの $h$ の平方根で除した値を新たな学習率として重みパラメータを更新する。\\\n",
        "\\\n",
        "$$\n",
        "h \\leftarrow h + (\\nabla E)^2 \\\\\n",
        "{\\bf w} \\leftarrow {\\bf w} - \\frac{\\eta}{\\sqrt{h}}\\nabla E\n",
        "$$\n",
        "\n",
        "# RMSProp\n",
        "AdaGradにおける $h$ の更新時に、勾配の2乗と前回更新時の $h$ との加重平均を計算する。ハイパーパラメータである $\\alpha$ はどの程度過去の影響を残すかを決定する。\\\n",
        "\\\n",
        "$$\n",
        "h \\leftarrow \\alpha h + (1-\\alpha)(\\nabla E)^2 \\\\\n",
        "$$\n",
        "\n",
        "# Adam\n",
        "更新時に勾配 $\\nabla E$ とその2乗である $(\\nabla E)^2$ のそれぞれに対して、前回更新時のパラメータとの加重平均を計算し、新たなパラメータとする。モメンタムとRMSPropの両方の性質を持つ。\\\n",
        "\\\n",
        "$$\n",
        "m \\leftarrow \\alpha m + (1-\\alpha)\\nabla E \\\\\n",
        "h \\leftarrow \\beta h + (1-\\beta)(\\nabla E)^2 \\\\\n",
        "{\\bf w} \\leftarrow {\\bf w} - \\eta\\frac{m}{\\sqrt{h}}\\nabla E\n",
        "$$"
      ],
      "metadata": {
        "id": "oz5QsFC-3yRZ"
      }
    },
    {
      "cell_type": "markdown",
      "source": [
        "## 確認テスト\n",
        "\\\n",
        "<img src=\"https://drive.google.com/uc?export=view&id=1-vbEVXvu0uBwkEoW-xXNtzQZAX269Ej1\" width=50%>\n"
      ],
      "metadata": {
        "id": "wBdK59CJeSyI"
      }
    },
    {
      "cell_type": "code",
      "metadata": {
        "id": "Hd7yE-pAm6_I",
        "colab": {
          "base_uri": "https://localhost:8080/",
          "height": 295
        },
        "outputId": "b66740ae-06e2-4e92-ac24-f10eef01cf24"
      },
      "source": [
        "# SGD\n",
        "# データの読み込み\n",
        "(x_train, d_train), (x_test, d_test) = load_mnist(normalize=True, one_hot_label=True)\n",
        "\n",
        "# print(\"データ読み込み完了\")\n",
        "network = MultiLayerNet(input_size=784, hidden_size_list=[40, 20], output_size=10, activation='sigmoid', weight_init_std=0.01)\n",
        "\n",
        "iters_num = 1000\n",
        "train_size = x_train.shape[0]\n",
        "batch_size = 100\n",
        "learning_rate = 0.01\n",
        "\n",
        "train_loss_list = []\n",
        "accuracies_train = []\n",
        "accuracies_test = []\n",
        "\n",
        "plot_interval=10\n",
        "\n",
        "for i in range(iters_num):\n",
        "    batch_mask = np.random.choice(train_size, batch_size)\n",
        "    x_batch = x_train[batch_mask]\n",
        "    d_batch = d_train[batch_mask]\n",
        "\n",
        "    # 勾配\n",
        "    grad = network.gradient(x_batch, d_batch)\n",
        "    \n",
        "    for key in ('W1', 'W2', 'W3', 'b1', 'b2', 'b3'):\n",
        "        network.params[key] -= learning_rate * grad[key]\n",
        "        \n",
        "        loss = network.loss(x_batch, d_batch)\n",
        "        train_loss_list.append(loss)\n",
        "    \n",
        "    \n",
        "    if (i + 1) % plot_interval == 0:\n",
        "        accr_test = network.accuracy(x_test, d_test)\n",
        "        accuracies_test.append(accr_test)        \n",
        "        accr_train = network.accuracy(x_batch, d_batch)\n",
        "        accuracies_train.append(accr_train)\n",
        "        \n",
        "        # print('Generation: ' + str(i+1) + '. 正答率(トレーニング) = ' + str(accr_train))\n",
        "        # print('                : ' + str(i+1) + '. 正答率(テスト) = ' + str(accr_test))\n",
        "\n",
        "        \n",
        "lists = range(0, iters_num, plot_interval)\n",
        "plt.plot(lists, accuracies_train, label=\"training set\")\n",
        "plt.plot(lists, accuracies_test,  label=\"test set\")\n",
        "plt.legend(loc=\"lower right\")\n",
        "plt.title(\"accuracy\")\n",
        "plt.xlabel(\"count\")\n",
        "plt.ylabel(\"accuracy\")\n",
        "plt.ylim(0, 1.0)\n",
        "# グラフの表示\n",
        "plt.show()"
      ],
      "execution_count": null,
      "outputs": [
        {
          "output_type": "display_data",
          "data": {
            "image/png": "[encoded data removed]",
            "text/plain": [
              "<Figure size 432x288 with 1 Axes>"
            ]
          },
          "metadata": {
            "needs_background": "light"
          }
        }
      ]
    },
    {
      "cell_type": "code",
      "metadata": {
        "id": "bBN0j5pUm6_Y",
        "colab": {
          "base_uri": "https://localhost:8080/",
          "height": 295
        },
        "outputId": "5f51cfed-6b34-4757-9fbd-86d19346f1a9"
      },
      "source": [
        "# Adam\n",
        "\n",
        "# データの読み込み\n",
        "(x_train, d_train), (x_test, d_test) = load_mnist(normalize=True, one_hot_label=True)\n",
        "\n",
        "network = MultiLayerNet(input_size=784, hidden_size_list=[40, 20], output_size=10, activation='sigmoid', weight_init_std=0.01)\n",
        "\n",
        "iters_num = 1000\n",
        "train_size = x_train.shape[0]\n",
        "batch_size = 100\n",
        "learning_rate = 0.01\n",
        "beta1 = 0.9\n",
        "beta2 = 0.999\n",
        "\n",
        "train_loss_list = []\n",
        "accuracies_train = []\n",
        "accuracies_test = []\n",
        "\n",
        "plot_interval=10\n",
        "\n",
        "for i in range(iters_num):\n",
        "    batch_mask = np.random.choice(train_size, batch_size)\n",
        "    x_batch = x_train[batch_mask]\n",
        "    d_batch = d_train[batch_mask]\n",
        "\n",
        "    # 勾配\n",
        "    grad = network.gradient(x_batch, d_batch)\n",
        "    if i == 0:\n",
        "        m = {}\n",
        "        v = {}\n",
        "    learning_rate_t  = learning_rate * np.sqrt(1.0 - beta2 ** (i + 1)) / (1.0 - beta1 ** (i + 1))    \n",
        "    for key in ('W1', 'W2', 'W3', 'b1', 'b2', 'b3'):\n",
        "        if i == 0:\n",
        "            m[key] = np.zeros_like(network.params[key])\n",
        "            v[key] = np.zeros_like(network.params[key])\n",
        "            \n",
        "        m[key] += (1 - beta1) * (grad[key] - m[key])\n",
        "        v[key] += (1 - beta2) * (grad[key] ** 2 - v[key])            \n",
        "        network.params[key] -= learning_rate_t * m[key] / (np.sqrt(v[key]) + 1e-7)                \n",
        "        \n",
        "        loss = network.loss(x_batch, d_batch)\n",
        "        train_loss_list.append(loss)        \n",
        "        \n",
        "    if (i + 1) % plot_interval == 0:\n",
        "        accr_test = network.accuracy(x_test, d_test)\n",
        "        accuracies_test.append(accr_test)        \n",
        "        accr_train = network.accuracy(x_batch, d_batch)\n",
        "        accuracies_train.append(accr_train)\n",
        "        \n",
        "        # print('Generation: ' + str(i+1) + '. 正答率(トレーニング) = ' + str(accr_train))\n",
        "        # print('                : ' + str(i+1) + '. 正答率(テスト) = ' + str(accr_test))\n",
        "                \n",
        "\n",
        "lists = range(0, iters_num, plot_interval)\n",
        "plt.plot(lists, accuracies_train, label=\"training set\")\n",
        "plt.plot(lists, accuracies_test,  label=\"test set\")\n",
        "plt.legend(loc=\"lower right\")\n",
        "plt.title(\"accuracy\")\n",
        "plt.xlabel(\"count\")\n",
        "plt.ylabel(\"accuracy\")\n",
        "plt.ylim(0, 1.0)\n",
        "# グラフの表示\n",
        "plt.show()"
      ],
      "execution_count": null,
      "outputs": [
        {
          "output_type": "display_data",
          "data": {
            "image/png": "[encoded data removed]",
            "text/plain": [
              "<Figure size 432x288 with 1 Axes>"
            ]
          },
          "metadata": {
            "needs_background": "light"
          }
        }
      ]
    },
    {
      "cell_type": "markdown",
      "source": [
        "# Section3 過学習"
      ],
      "metadata": {
        "id": "MVj59p3X5edN"
      }
    },
    {
      "cell_type": "markdown",
      "source": [
        "ニューラルネットワークの学習において訓練データに対して過剰に最適化が進んでしまい、未知の入力データに対する予測結果と正解との乖離が大きくなってしまう場合がある。これを過学習と呼ぶ。\n",
        "\n",
        "# 正則化\n",
        "過学習の原因の一つに、重みパラメータ $\\bf w$ の値が大きくなりすぎる事がある。これを防ぐために正則化を行う。モデルの最適化とは、モデルの予測結果と正解との誤差 $E$ を損失関数 $L$ として、これを最小化する事である。正則化ではこの損失関数に、重みの大きさをペナルティ項として追加する。これによって誤差と重みの両方が小さくなるように最適化が行われ、過学習を防ぐことができる。正則化項に $\\bf w$ のL1ノルムを用いる場合をL1正則化（Lasso回帰） L2ノルムを用いる場合をL2正則化（Ridge回帰）と呼ぶ。\\\n",
        "\\\n",
        "$$\\begin{align*}\n",
        "& L_{lasso}=E({\\bf w}) + \\lambda \\|{\\bf w}\\|_1\\\\[4pt]\n",
        "& L_{ridge}=E({\\bf w}) + \\frac{1}{2}\\lambda \\|{\\bf w}\\|_2\n",
        "\\end{align*}$$\n",
        "\\\n",
        "$\\lambda$ は正則化項の影響の強さを決めるハイパーパラメータである。各正則化の性質として、Ridge回帰では重み全体が小さくなるが、Lasso回帰では予測結果への寄与が小さい重みが0になりやすい。従って、全ての特徴量が重要な場合はRidge回帰を選択し、重要な特徴のみ残したい場合はLasso回帰を選択すればよい。\n",
        "\n",
        "# ドロップアウト\n",
        "ニューラルネットワークにおいて、ノードの数を増やせばモデルの表現力は上がるが、過学習も起きやすくなる。ドロップアウトは、一定の確率でノードを無視して学習を進めることで過学習を抑制する。この時、無視されるノードは毎回ランダムに選ばれるが、これは毎回異なるネットワークを学習しているとも言える。即ち、ドロップアウトを行うことで、複数のモデルを用いて予測結果を向上させるアンサンブル学習の効果も見込むことができる。"
      ],
      "metadata": {
        "id": "waSL_gE15iiU"
      }
    },
    {
      "cell_type": "markdown",
      "source": [
        "## 確認テスト\n",
        "\\\n",
        "<img src=\"https://drive.google.com/uc?export=view&id=1MnI7MegCJ_2C7rG3BXmusaqEgC6pL8MG\" width=50%>\n"
      ],
      "metadata": {
        "id": "X2Y3cT4cgAuN"
      }
    },
    {
      "cell_type": "code",
      "metadata": {
        "id": "i1UkQeoupQ4Q",
        "colab": {
          "base_uri": "https://localhost:8080/",
          "height": 312
        },
        "outputId": "112925ea-a9ee-4634-f904-bcdaa0121d57"
      },
      "source": [
        "# 過学習\n",
        "\n",
        "(x_train, d_train), (x_test, d_test) = load_mnist(normalize=True)\n",
        "\n",
        "print(\"データ読み込み完了\")\n",
        "\n",
        "# 過学習を再現するために、学習データを削減\n",
        "x_train = x_train[:300]\n",
        "d_train = d_train[:300]\n",
        "\n",
        "network = MultiLayerNet(input_size=784, hidden_size_list=[100, 100, 100, 100, 100, 100], output_size=10)\n",
        "optimizer = optimizer.SGD(learning_rate=0.01)\n",
        "\n",
        "iters_num = 1000\n",
        "train_size = x_train.shape[0]\n",
        "batch_size = 100\n",
        "\n",
        "train_loss_list = []\n",
        "accuracies_train = []\n",
        "accuracies_test = []\n",
        "\n",
        "plot_interval=10\n",
        "\n",
        "\n",
        "for i in range(iters_num):\n",
        "    batch_mask = np.random.choice(train_size, batch_size)\n",
        "    x_batch = x_train[batch_mask]\n",
        "    d_batch = d_train[batch_mask]\n",
        "\n",
        "    grad = network.gradient(x_batch, d_batch)\n",
        "    optimizer.update(network.params, grad)\n",
        "\n",
        "    loss = network.loss(x_batch, d_batch)\n",
        "    train_loss_list.append(loss)\n",
        "        \n",
        "    if (i+1) % plot_interval == 0:\n",
        "        accr_train = network.accuracy(x_train, d_train)\n",
        "        accr_test = network.accuracy(x_test, d_test)\n",
        "        accuracies_train.append(accr_train)\n",
        "        accuracies_test.append(accr_test)\n",
        "\n",
        "        # print('Generation: ' + str(i+1) + '. 正答率(トレーニング) = ' + str(accr_train))\n",
        "        # print('                : ' + str(i+1) + '. 正答率(テスト) = ' + str(accr_test))        \n",
        "\n",
        "lists = range(0, iters_num, plot_interval)\n",
        "plt.plot(lists, accuracies_train, label=\"training set\")\n",
        "plt.plot(lists, accuracies_test,  label=\"test set\")\n",
        "plt.legend(loc=\"lower right\")\n",
        "plt.title(\"accuracy\")\n",
        "plt.xlabel(\"count\")\n",
        "plt.ylabel(\"accuracy\")\n",
        "plt.ylim(0, 1.0)\n",
        "# グラフの表示\n",
        "plt.show()"
      ],
      "execution_count": null,
      "outputs": [
        {
          "output_type": "stream",
          "name": "stdout",
          "text": [
            "データ読み込み完了\n"
          ]
        },
        {
          "output_type": "display_data",
          "data": {
            "image/png": "[encoded data removed]",
            "text/plain": [
              "<Figure size 432x288 with 1 Axes>"
            ]
          },
          "metadata": {
            "needs_background": "light"
          }
        }
      ]
    },
    {
      "cell_type": "code",
      "metadata": {
        "id": "DAQfDEQUpQ4p",
        "colab": {
          "base_uri": "https://localhost:8080/",
          "height": 312
        },
        "outputId": "24918265-570c-4a7e-9aa2-3c13cb382498"
      },
      "source": [
        "(x_train, d_train), (x_test, d_test) = load_mnist(normalize=True)\n",
        "\n",
        "print(\"データ読み込み完了\")\n",
        "\n",
        "# 過学習を再現するために、学習データを削減\n",
        "x_train = x_train[:300]\n",
        "d_train = d_train[:300]\n",
        "\n",
        "# ドロップアウト設定 ======================================\n",
        "use_dropout = True\n",
        "dropout_ratio = 0.08\n",
        "# ====================================================\n",
        "\n",
        "network = MultiLayerNet(input_size=784, hidden_size_list=[100, 100, 100, 100, 100, 100], output_size=10,\n",
        "                        use_dropout = use_dropout, dropout_ratio = dropout_ratio)\n",
        "\n",
        "iters_num = 1000\n",
        "train_size = x_train.shape[0]\n",
        "batch_size = 100\n",
        "learning_rate=0.01\n",
        "\n",
        "train_loss_list = []\n",
        "accuracies_train = []\n",
        "accuracies_test = []\n",
        "hidden_layer_num = network.hidden_layer_num\n",
        "\n",
        "plot_interval=10\n",
        "\n",
        "# 正則化強度設定 ======================================\n",
        "weight_decay_lambda=0.004\n",
        "# =================================================\n",
        "\n",
        "for i in range(iters_num):\n",
        "    batch_mask = np.random.choice(train_size, batch_size)\n",
        "    x_batch = x_train[batch_mask]\n",
        "    d_batch = d_train[batch_mask]\n",
        "\n",
        "    grad = network.gradient(x_batch, d_batch)\n",
        "    weight_decay = 0\n",
        "    \n",
        "    for idx in range(1, hidden_layer_num+1):\n",
        "        grad['W' + str(idx)] = network.layers['Affine' + str(idx)].dW + weight_decay_lambda * np.sign(network.params['W' + str(idx)])\n",
        "        grad['b' + str(idx)] = network.layers['Affine' + str(idx)].db\n",
        "        network.params['W' + str(idx)] -= learning_rate * grad['W' + str(idx)]\n",
        "        network.params['b' + str(idx)] -= learning_rate * grad['b' + str(idx)]        \n",
        "        weight_decay += weight_decay_lambda * np.sum(np.abs(network.params['W' + str(idx)]))\n",
        "\n",
        "    loss = network.loss(x_batch, d_batch) + weight_decay\n",
        "    train_loss_list.append(loss)        \n",
        "        \n",
        "    if (i+1) % plot_interval == 0:\n",
        "        accr_train = network.accuracy(x_train, d_train)\n",
        "        accr_test = network.accuracy(x_test, d_test)\n",
        "        accuracies_train.append(accr_train)\n",
        "        accuracies_test.append(accr_test)\n",
        "        \n",
        "        # print('Generation: ' + str(i+1) + '. 正答率(トレーニング) = ' + str(accr_train))\n",
        "        # print('                : ' + str(i+1) + '. 正答率(テスト) = ' + str(accr_test))               \n",
        "        \n",
        "lists = range(0, iters_num, plot_interval)\n",
        "plt.plot(lists, accuracies_train, label=\"training set\")\n",
        "plt.plot(lists, accuracies_test,  label=\"test set\")\n",
        "plt.legend(loc=\"lower right\")\n",
        "plt.title(\"accuracy\")\n",
        "plt.xlabel(\"count\")\n",
        "plt.ylabel(\"accuracy\")\n",
        "plt.ylim(0, 1.0)\n",
        "# グラフの表示\n",
        "plt.show()"
      ],
      "execution_count": null,
      "outputs": [
        {
          "output_type": "stream",
          "name": "stdout",
          "text": [
            "データ読み込み完了\n"
          ]
        },
        {
          "output_type": "display_data",
          "data": {
            "image/png": "[encoded data removed]",
            "text/plain": [
              "<Figure size 432x288 with 1 Axes>"
            ]
          },
          "metadata": {
            "needs_background": "light"
          }
        }
      ]
    },
    {
      "cell_type": "markdown",
      "source": [
        "#[Section4]　畳み込みニューラルネットワーク"
      ],
      "metadata": {
        "id": "kaRQr2thTbXg"
      }
    },
    {
      "cell_type": "markdown",
      "source": [
        "CNN(Convolutional Neural Newwork)は画像認識の分野で特に用いられる機械学習の手法である。画像データは（縦×横×チャネル数）のピクセルで構成され、3または2次元の構造を持つ（カラー画像：チャネル数=3、グレースケール画像：チャネル数=1）。全結合型NNでは入力時にデータが1次元に変換されるのに対し、CNNではデータの次元を保持したまま入力することができる。これは各ピクセル間のつながり（空間情報）を失わずに学習が可能という事である。\n",
        "\n",
        "# 畳み込み層\n",
        "畳み込み層は複数のチャネルを持ち、チャネル毎に入力画像から特徴を抽出するためのフィルタを持つ。畳み込み層での計算の概要を下図に示す。\n",
        "\n",
        "フィルタは $K \\times L$ のサイズを持ち、各セルに重み $w_{kl}$ を持つ。畳み込み演算では、まず入力画像からフィルタと同サイズの領域（ウィンドウ）を切り出す。次にウィンドウとフィルタの積和にバイアスを加えた値を出力値として格納する。この計算を一定間隔でずらしながら全てのウィンドウに対して行う事で、畳み込み結果を得る。この時のウィンドウの間隔をストライドと呼ぶ。\\\n",
        "上図の畳み込み計算において、入力画像の4隅にある 2x2 ピクセルに着目すると、フィルタによる特徴抽出が1回しか行われていない。そこで入力画像の上下左右に任意の数だけピクセルの行・列を追加する。この操作をパディングと呼ぶ。パディングによって画像端の特徴を不足なく抽出できる他、出力する畳み込み画像のサイズを調整することができる。またパディングで追加するピクセルに与える値は任意だが、0とする場合が多い。\\\n",
        "今、サイズ $(M \\times N)$ の入力画像を $p$ でパディングし、これをサイズ $(K \\times L)$ のフィルタを用いてストライド $s$ で走査した場合、得られる畳み込み画像のサイズ$(I \\times J)$は次式で得られる。\\\n",
        "\\\n",
        "$$\n",
        "I=\\left\\lfloor \\frac{N+2p-K}{s} \\right\\rfloor + 1 \\ , \\quad\n",
        "J=\\left\\lfloor \\frac{M+2p-L}{s} \\right\\rfloor + 1\\\\[16pt]\n",
        "$$\n",
        "\\\n",
        "<img src=\"https://drive.google.com/uc?export=view&id=1zqjdWTlpp741sOjhxc_DOGCE-SMLoDn8\" width=60%>\n",
        "\n",
        "\n"
      ],
      "metadata": {
        "id": "NU9zhBkaTj-9"
      }
    },
    {
      "cell_type": "markdown",
      "source": [
        ""
      ],
      "metadata": {
        "id": "p4tEFBWC0Eyu"
      }
    },
    {
      "cell_type": "markdown",
      "source": [
        "## パディング\n",
        "<img src=\"https://drive.google.com/uc?export=view&id=1oe0Wjm42n9Rcjd3DwrssUDSsuXfjmVWf\" width=50%>"
      ],
      "metadata": {
        "id": "uySAGtiNztxC"
      }
    },
    {
      "cell_type": "markdown",
      "source": [
        "## プーリング\n",
        "プーリング層では入力画像を任意サイズの区画に分けて、その区画内で特徴的な値（最大値や平均値）を抽出する操作を行う。これによって入力画像の特徴を残したまま、データサイズを削減することができる。\n",
        "\n",
        "\\\n",
        "<img src=\"https://drive.google.com/uc?export=view&id=1ma2kKZFTrNjiPd16qBCwWehJPldRqQhq\" width=60%>\n"
      ],
      "metadata": {
        "id": "bDsswdU-0KzB"
      }
    },
    {
      "cell_type": "markdown",
      "source": [
        "## 確認テスト\n",
        "\\\n",
        "<img src=\"https://drive.google.com/uc?export=view&id=1v3K5Az6qQx4zu_8YDUOJLO1kZupxZ-FU\" width=50%>\n",
        "\n",
        "\n"
      ],
      "metadata": {
        "id": "QJyTyhajiVbl"
      }
    },
    {
      "cell_type": "code",
      "metadata": {
        "id": "goQlh8SEqyF7"
      },
      "source": [
        "# 画像データを２次元配列に変換\n",
        "'''\n",
        "input_data: 入力値\n",
        "filter_h: フィルターの高さ\n",
        "filter_w: フィルターの横幅\n",
        "stride: ストライド\n",
        "pad: パディング\n",
        "'''\n",
        "def im2col(input_data, filter_h, filter_w, stride=1, pad=0):\n",
        "    # N: number, C: channel, H: height, W: width\n",
        "    N, C, H, W = input_data.shape\n",
        "    # 切り捨て除算\n",
        "    out_h = (H + 2 * pad - filter_h)//stride + 1\n",
        "    out_w = (W + 2 * pad - filter_w)//stride + 1\n",
        "\n",
        "    img = np.pad(input_data, [(0,0), (0,0), (pad, pad), (pad, pad)], 'constant')\n",
        "    col = np.zeros((N, C, filter_h, filter_w, out_h, out_w))\n",
        "\n",
        "    for y in range(filter_h):\n",
        "        y_max = y + stride * out_h\n",
        "        for x in range(filter_w):\n",
        "            x_max = x + stride * out_w\n",
        "            col[:, :, y, x, :, :] = img[:, :, y:y_max:stride, x:x_max:stride]\n",
        "\n",
        "    col = col.transpose(0, 4, 5, 1, 2, 3) # (N, C, filter_h, filter_w, out_h, out_w) -> (N, filter_w, out_h, out_w, C, filter_h)    \n",
        "    \n",
        "    col = col.reshape(N * out_h * out_w, -1)\n",
        "    return col"
      ],
      "execution_count": null,
      "outputs": []
    },
    {
      "cell_type": "code",
      "metadata": {
        "id": "hgjmTNtTqyF_",
        "outputId": "3586e892-97b5-4f20-a148-38aa27c6a0bb",
        "colab": {
          "base_uri": "https://localhost:8080/"
        }
      },
      "source": [
        "# im2colの処理確認\n",
        "input_data = np.random.rand(2, 1, 4, 4)*100//1 # number, channel, height, widthを表す\n",
        "print('========== input_data ===========\\n', input_data)\n",
        "print('==============================')\n",
        "filter_h = 3\n",
        "filter_w = 3\n",
        "stride = 1\n",
        "pad = 0\n",
        "col = im2col(input_data, filter_h=filter_h, filter_w=filter_w, stride=stride, pad=pad)\n",
        "print('============= col ==============\\n', col)\n",
        "print('==============================')"
      ],
      "execution_count": null,
      "outputs": [
        {
          "output_type": "stream",
          "name": "stdout",
          "text": [
            "========== input_data ===========\n",
            " [[[[86. 43. 83. 27.]\n",
            "   [46. 86. 48. 62.]\n",
            "   [93. 14. 65. 24.]\n",
            "   [68. 30. 20. 32.]]]\n",
            "\n",
            "\n",
            " [[[66.  3. 79. 43.]\n",
            "   [99. 29. 91. 51.]\n",
            "   [11. 55. 31. 79.]\n",
            "   [98. 36. 18. 61.]]]]\n",
            "==============================\n",
            "============= col ==============\n",
            " [[86. 43. 83. 46. 86. 48. 93. 14. 65.]\n",
            " [43. 83. 27. 86. 48. 62. 14. 65. 24.]\n",
            " [46. 86. 48. 93. 14. 65. 68. 30. 20.]\n",
            " [86. 48. 62. 14. 65. 24. 30. 20. 32.]\n",
            " [66.  3. 79. 99. 29. 91. 11. 55. 31.]\n",
            " [ 3. 79. 43. 29. 91. 51. 55. 31. 79.]\n",
            " [99. 29. 91. 11. 55. 31. 98. 36. 18.]\n",
            " [29. 91. 51. 55. 31. 79. 36. 18. 61.]]\n",
            "==============================\n"
          ]
        }
      ]
    },
    {
      "cell_type": "markdown",
      "source": [
        "# [Section5] AlexNet"
      ],
      "metadata": {
        "id": "pE9DHVoiK4ID"
      }
    },
    {
      "cell_type": "markdown",
      "source": [
        "AlexNet は 2021 年に登場した畳み込みNNであり、それまでの画像認識タスクと比べて大幅に精度を向上させた。224×224 の画像を入力にとり、5つの畳み込み層と3つの全結合層を含む。また最初の2つの畳み込み層では max pooling 処理を行い、特徴マップのダウンサンプリングを行っている。過学習に対応する施策として、サイズ 4096 の全結合層にてドロップアウトを行っている。"
      ],
      "metadata": {
        "id": "0dwkg-PNK9KM"
      }
    },
    {
      "cell_type": "markdown",
      "source": [
        "## 確認テスト\n",
        "\n",
        "\\\n",
        "<img src=\"https://drive.google.com/uc?export=view&id=1bBE9q4q3prqUCty1iOb8jv8I-HEh5vYZ\" width=50%>\n"
      ],
      "metadata": {
        "id": "wjM255Z5fl10"
      }
    },
    {
      "cell_type": "code",
      "metadata": {
        "id": "dr8AeVz2qyGR"
      },
      "source": [
        "class Convolution:\n",
        "    # W: フィルター, b: バイアス\n",
        "    def __init__(self, W, b, stride=1, pad=0):\n",
        "        self.W = W\n",
        "        self.b = b\n",
        "        self.stride = stride\n",
        "        self.pad = pad\n",
        "        \n",
        "        # 中間データ（backward時に使用）\n",
        "        self.x = None   \n",
        "        self.col = None\n",
        "        self.col_W = None\n",
        "        \n",
        "        # フィルター・バイアスパラメータの勾配\n",
        "        self.dW = None\n",
        "        self.db = None\n",
        "\n",
        "    def forward(self, x):\n",
        "        # FN: filter_number, C: channel, FH: filter_height, FW: filter_width\n",
        "        FN, C, FH, FW = self.W.shape\n",
        "        N, C, H, W = x.shape\n",
        "        # 出力値のheight, width\n",
        "        out_h = 1 + int((H + 2 * self.pad - FH) / self.stride)\n",
        "        out_w = 1 + int((W + 2 * self.pad - FW) / self.stride)\n",
        "        \n",
        "        # xを行列に変換\n",
        "        col = im2col(x, FH, FW, self.stride, self.pad)\n",
        "        # フィルターをxに合わせた行列に変換\n",
        "        col_W = self.W.reshape(FN, -1).T\n",
        "\n",
        "        out = np.dot(col, col_W) + self.b\n",
        "        # 計算のために変えた形式を戻す\n",
        "        out = out.reshape(N, out_h, out_w, -1).transpose(0, 3, 1, 2)\n",
        "\n",
        "        self.x = x\n",
        "        self.col = col\n",
        "        self.col_W = col_W\n",
        "\n",
        "        return out\n",
        "\n",
        "    def backward(self, dout):\n",
        "        FN, C, FH, FW = self.W.shape\n",
        "        dout = dout.transpose(0, 2, 3, 1).reshape(-1, FN)\n",
        "\n",
        "        self.db = np.sum(dout, axis=0)\n",
        "        self.dW = np.dot(self.col.T, dout)\n",
        "        self.dW = self.dW.transpose(1, 0).reshape(FN, C, FH, FW)\n",
        "\n",
        "        dcol = np.dot(dout, self.col_W.T)\n",
        "        # dcolを画像データに変換\n",
        "        dx = col2im(dcol, self.x.shape, FH, FW, self.stride, self.pad)\n",
        "\n",
        "        return dx\n",
        "\n",
        "class Pooling:\n",
        "    def __init__(self, pool_h, pool_w, stride=1, pad=0):\n",
        "        self.pool_h = pool_h\n",
        "        self.pool_w = pool_w\n",
        "        self.stride = stride\n",
        "        self.pad = pad\n",
        "        \n",
        "        self.x = None\n",
        "        self.arg_max = None\n",
        "\n",
        "    def forward(self, x):\n",
        "        N, C, H, W = x.shape\n",
        "        out_h = int(1 + (H - self.pool_h) / self.stride)\n",
        "        out_w = int(1 + (W - self.pool_w) / self.stride)\n",
        "        \n",
        "        # xを行列に変換\n",
        "        col = im2col(x, self.pool_h, self.pool_w, self.stride, self.pad)\n",
        "        # プーリングのサイズに合わせてリサイズ\n",
        "        col = col.reshape(-1, self.pool_h*self.pool_w)\n",
        "        \n",
        "        #maxプーリング\n",
        "        arg_max = np.argmax(col, axis=1)\n",
        "        out = np.max(col, axis=1)\n",
        "        out = out.reshape(N, out_h, out_w, C).transpose(0, 3, 1, 2)\n",
        "\n",
        "        self.x = x\n",
        "        self.arg_max = arg_max\n",
        "\n",
        "        return out\n",
        "\n",
        "    def backward(self, dout):\n",
        "        dout = dout.transpose(0, 2, 3, 1)\n",
        "        \n",
        "        pool_size = self.pool_h * self.pool_w\n",
        "        dmax = np.zeros((dout.size, pool_size))\n",
        "        dmax[np.arange(self.arg_max.size), self.arg_max.flatten()] = dout.flatten()\n",
        "        dmax = dmax.reshape(dout.shape + (pool_size,)) \n",
        "        \n",
        "        dcol = dmax.reshape(dmax.shape[0] * dmax.shape[1] * dmax.shape[2], -1)\n",
        "        dx = col2im(dcol, self.x.shape, self.pool_h, self.pool_w, self.stride, self.pad)\n",
        "        \n",
        "        return dx\n",
        "\n",
        "class SimpleConvNet:\n",
        "    # conv - relu - pool - affine - relu - affine - softmax\n",
        "    def __init__(self, input_dim=(1, 28, 28), conv_param={'filter_num':30, 'filter_size':5, 'pad':0, 'stride':1},\n",
        "                 hidden_size=100, output_size=10, weight_init_std=0.01):\n",
        "        filter_num = conv_param['filter_num']        \n",
        "        filter_size = conv_param['filter_size']\n",
        "        filter_pad = conv_param['pad']\n",
        "        filter_stride = conv_param['stride']\n",
        "        input_size = input_dim[1]\n",
        "        conv_output_size = (input_size - filter_size + 2 * filter_pad) / filter_stride + 1\n",
        "        pool_output_size = int(filter_num * (conv_output_size / 2) * (conv_output_size / 2))\n",
        "\n",
        "        # 重みの初期化\n",
        "        self.params = {}\n",
        "        self.params['W1'] = weight_init_std * np.random.randn(filter_num, input_dim[0], filter_size, filter_size)\n",
        "        self.params['b1'] = np.zeros(filter_num)\n",
        "        self.params['W2'] = weight_init_std * np.random.randn(pool_output_size, hidden_size)\n",
        "        self.params['b2'] = np.zeros(hidden_size)\n",
        "        self.params['W3'] = weight_init_std * np.random.randn(hidden_size, output_size)\n",
        "        self.params['b3'] = np.zeros(output_size)\n",
        "\n",
        "        # レイヤの生成\n",
        "        self.layers = OrderedDict()\n",
        "        self.layers['Conv1'] = layers.Convolution(self.params['W1'], self.params['b1'], conv_param['stride'], conv_param['pad'])\n",
        "        self.layers['Relu1'] = layers.Relu()\n",
        "        self.layers['Pool1'] = layers.Pooling(pool_h=2, pool_w=2, stride=2)\n",
        "        self.layers['Affine1'] = layers.Affine(self.params['W2'], self.params['b2'])\n",
        "        self.layers['Relu2'] = layers.Relu()\n",
        "        self.layers['Affine2'] = layers.Affine(self.params['W3'], self.params['b3'])\n",
        "\n",
        "        self.last_layer = layers.SoftmaxWithLoss()\n",
        "\n",
        "    def predict(self, x):\n",
        "        for key in self.layers.keys():\n",
        "            x = self.layers[key].forward(x)\n",
        "        return x\n",
        "        \n",
        "    def loss(self, x, d):\n",
        "        y = self.predict(x)\n",
        "        return self.last_layer.forward(y, d)\n",
        "\n",
        "    def accuracy(self, x, d, batch_size=100):\n",
        "        if d.ndim != 1 : d = np.argmax(d, axis=1)\n",
        "        \n",
        "        acc = 0.0\n",
        "        \n",
        "        for i in range(int(x.shape[0] / batch_size)):\n",
        "            tx = x[i*batch_size:(i+1)*batch_size]\n",
        "            td = d[i*batch_size:(i+1)*batch_size]\n",
        "            y = self.predict(tx)\n",
        "            y = np.argmax(y, axis=1)\n",
        "            acc += np.sum(y == td) \n",
        "        \n",
        "        return acc / x.shape[0]\n",
        "\n",
        "    def gradient(self, x, d):\n",
        "        # forward\n",
        "        self.loss(x, d)\n",
        "        \n",
        "        # backward\n",
        "        dout = 1\n",
        "        dout = self.last_layer.backward(dout)\n",
        "        layers = list(self.layers.values())\n",
        "        \n",
        "        layers.reverse()\n",
        "        for layer in layers:\n",
        "            dout = layer.backward(dout)\n",
        "\n",
        "        # 設定\n",
        "        grad = {}\n",
        "        grad['W1'], grad['b1'] = self.layers['Conv1'].dW, self.layers['Conv1'].db\n",
        "        grad['W2'], grad['b2'] = self.layers['Affine1'].dW, self.layers['Affine1'].db\n",
        "        grad['W3'], grad['b3'] = self.layers['Affine2'].dW, self.layers['Affine2'].db\n",
        "\n",
        "        return grad"
      ],
      "execution_count": null,
      "outputs": []
    },
    {
      "cell_type": "code",
      "metadata": {
        "scrolled": false,
        "id": "37cJRgGaqyGV",
        "outputId": "70ed7acc-e468-4d7b-8151-51a2bbee030d",
        "colab": {
          "base_uri": "https://localhost:8080/",
          "height": 295
        }
      },
      "source": [
        "\n",
        "# データの読み込み\n",
        "(x_train, d_train), (x_test, d_test) = load_mnist(flatten=False)\n",
        "\n",
        "# print(\"データ読み込み完了\")\n",
        "\n",
        "# 処理に時間のかかる場合はデータを削減 \n",
        "x_train, d_train = x_train[:4000], d_train[:4000]\n",
        "x_test, d_test = x_test[:800], d_test[:800]\n",
        "\n",
        "\n",
        "network = SimpleConvNet(input_dim=(1,28,28), conv_param = {'filter_num': 30, 'filter_size': 5, 'pad': 0, 'stride': 1},\n",
        "                        hidden_size=100, output_size=10, weight_init_std=0.01)\n",
        "\n",
        "optimizer = optimizer.Adam()\n",
        "\n",
        "iters_num = 1000\n",
        "train_size = x_train.shape[0]\n",
        "batch_size = 100\n",
        "\n",
        "train_loss_list = []\n",
        "accuracies_train = []\n",
        "accuracies_test = []\n",
        "\n",
        "plot_interval=10\n",
        "\n",
        "for i in range(iters_num):\n",
        "    batch_mask = np.random.choice(train_size, batch_size)\n",
        "    x_batch = x_train[batch_mask]\n",
        "    d_batch = d_train[batch_mask]\n",
        "    \n",
        "    grad = network.gradient(x_batch, d_batch)\n",
        "    optimizer.update(network.params, grad)\n",
        "\n",
        "    loss = network.loss(x_batch, d_batch)\n",
        "    train_loss_list.append(loss)\n",
        "\n",
        "    if (i+1) % plot_interval == 0:\n",
        "        accr_train = network.accuracy(x_train, d_train)\n",
        "        accr_test = network.accuracy(x_test, d_test)\n",
        "        accuracies_train.append(accr_train)\n",
        "        accuracies_test.append(accr_test)\n",
        "        \n",
        "        # print('Generation: ' + str(i+1) + '. 正答率(トレーニング) = ' + str(accr_train))\n",
        "        # print('                : ' + str(i+1) + '. 正答率(テスト) = ' + str(accr_test))               \n",
        "\n",
        "lists = range(0, iters_num, plot_interval)\n",
        "plt.plot(lists, accuracies_train, label=\"training set\")\n",
        "plt.plot(lists, accuracies_test,  label=\"test set\")\n",
        "plt.legend(loc=\"lower right\")\n",
        "plt.title(\"accuracy\")\n",
        "plt.xlabel(\"count\")\n",
        "plt.ylabel(\"accuracy\")\n",
        "plt.ylim(0, 1.0)\n",
        "# グラフの表示\n",
        "plt.show()"
      ],
      "execution_count": null,
      "outputs": [
        {
          "output_type": "display_data",
          "data": {
            "image/png": "[encoded data removed]",
            "text/plain": [
              "<Figure size 432x288 with 1 Axes>"
            ]
          },
          "metadata": {
            "needs_background": "light"
          }
        }
      ]
    }
  ]
}
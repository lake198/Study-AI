{
  "nbformat": 4,
  "nbformat_minor": 0,
  "metadata": {
    "colab": {
      "name": "深層学習day1.ipynb",
      "provenance": [],
      "collapsed_sections": [],
      "authorship_tag": "ABX9TyMSEK94TeTA/mFJw7b0kpgK",
      "include_colab_link": true
    },
    "kernelspec": {
      "name": "python3",
      "display_name": "Python 3"
    },
    "language_info": {
      "name": "python"
    }
  },
  "cells": [
    {
      "cell_type": "markdown",
      "metadata": {
        "id": "view-in-github",
        "colab_type": "text"
      },
      "source": [
        "<a href=\"https://colab.research.google.com/github/lake198/Study-AI/blob/main/%E6%B7%B1%E5%B1%A4%E5%AD%A6%E7%BF%92day1.ipynb\" target=\"_parent\"><img src=\"https://colab.research.google.com/assets/colab-badge.svg\" alt=\"Open In Colab\"/></a>"
      ]
    },
    {
      "cell_type": "code",
      "source": [
        "from google.colab import drive\n",
        "drive.mount('/content/drive')"
      ],
      "metadata": {
        "colab": {
          "base_uri": "https://localhost:8080/"
        },
        "id": "SP3bZfw0evMR",
        "outputId": "57157bc2-c74e-4e63-c022-e517319069d9"
      },
      "execution_count": null,
      "outputs": [
        {
          "output_type": "stream",
          "name": "stdout",
          "text": [
            "Mounted at /content/drive\n"
          ]
        }
      ]
    },
    {
      "cell_type": "code",
      "source": [
        "import sys\n",
        "sys.path.append('/content/drive/My Drive/Colab Notebooks/Study_AI/DNN_code_colab_lesson_1_2')"
      ],
      "metadata": {
        "id": "PGv_dpTke5Nw"
      },
      "execution_count": null,
      "outputs": []
    },
    {
      "cell_type": "code",
      "source": [
        "from common import functions\n",
        "import numpy as np\n",
        "import matplotlib.pyplot as plt"
      ],
      "metadata": {
        "id": "bgwW52qXN4Ml"
      },
      "execution_count": null,
      "outputs": []
    },
    {
      "cell_type": "markdown",
      "source": [
        "#[Section 1 入力層～中間層]"
      ],
      "metadata": {
        "id": "IMOECni4hOI_"
      }
    },
    {
      "cell_type": "markdown",
      "source": [
        "ニューラルネットワークは入力層、中間層、出力層から構成される。入力層は説明変数を受け取り、中間層は前の層の出力を受け取って内部で変換した結果を次の層に渡す。これを繰り返し、最終的な結果として出力層を得る。DNN（ディープニューラルネットワーク）は多層の中間層を持つニューラルネットワークを指す。\\\n",
        "\\\n",
        "<img src=\"https://drive.google.com/uc?export=view&id=1Cv_bGuNidxLe82QhGhoiDTFbZYj1DofF\" width=50%>\\\n",
        "\\\n",
        "以降は上図のニューラルネットワークを用いる。入力層～中間層(1)\n",
        "では、$M$ 個の説明変数を持つ入力データ ${\\bf x}$ について、重みパラメータ $\\bf w$ とバイアス $\\bf b$ による線形結合 $\\bf u$ を求める。以降では計算を一括で行えるように $b_i=w_{0i}$ として、バイアス $\\bf b$ を重みパラメータ $\\bf w$ に含めて考える。\\\n",
        "\\\n",
        "$$\n",
        "{\\bf u} = \\left[\\begin{array}{c}\n",
        "w_{01}1 + w_{11}x_1+\\cdots+w_{M1}x_M \\\\\n",
        "\\vdots \\\\\n",
        "w_{0i}1 + w_{1i}x_1+\\cdots+w_{Mi}x_M \\\\\n",
        "\\vdots \\\\\n",
        "w_{0I}1 + w_{1I}x_1+\\cdots+w_{MI}x_M \\\\\n",
        "\\end{array} \\right]\n",
        "=\\left[\\begin{array}{cccc}\n",
        "  w_{01} & w_{11} & \\cdots & w_{M1}\\\\\n",
        "   & & \\vdots\\\\\n",
        "  w_{0i} & w_{0i} & \\cdots & w_{Mi}\\\\\n",
        "   & & \\vdots\\\\\n",
        "  w_{0I} & w_{0I} & \\cdots & w_{MI}\\\\\n",
        "\\end{array} \\right]\n",
        "\\left[\\begin{array}{c}\n",
        "  1 \\\\ x_{1} \\\\ \\vdots \\\\ x_{M}\\\\\n",
        "\\end{array} \\right] = {\\bf w}^T{\\bf x}\\\\\n",
        "$$\n",
        "\\\n",
        "i番目の要素のみ取り出すと\\\n",
        "\\\n",
        "$$ u_i=\\sum_{m=0}^{M}w_{mi}x_m $$\n",
        "\\\n",
        "ここで得られた $\\bf u$ を活性化関数 $\\phi$ で変換した結果 ${\\bf y}=\\phi({\\bf u})$ が、中間層(1)の出力として次の中間層(2)に渡される。"
      ],
      "metadata": {
        "id": "rukGTzmMhqeK"
      }
    },
    {
      "cell_type": "markdown",
      "source": [
        "# 確認テスト\n",
        "<img src=\"https://drive.google.com/uc?export=view&id=1ZNLYzfQE7jOvjRuMPFpAlm9JZVpEWyCB\" width=60%>\n"
      ],
      "metadata": {
        "id": "jnUtZ-BSwTBC"
      }
    },
    {
      "cell_type": "markdown",
      "source": [
        "##[Section 1 実装演習]"
      ],
      "metadata": {
        "id": "bFBkCB4V70NQ"
      }
    },
    {
      "cell_type": "code",
      "metadata": {
        "id": "mXUakK8URKSo",
        "colab": {
          "base_uri": "https://localhost:8080/"
        },
        "outputId": "eb35d657-01eb-499f-b159-3a5c5c53dd47"
      },
      "source": [
        "# 順伝播（単層・複数ユニット）\n",
        "\n",
        "# 重み\n",
        "W = np.array([\n",
        "    [0.1, 0.2, 0.3, 0], \n",
        "    [0.2, 0.3, 0.4, 0.5], \n",
        "    [0.3, 0.4, 0.5, 1],\n",
        "])\n",
        "\n",
        "print(\"W=\", W, \"\\n\")\n",
        "\n",
        "# バイアス\n",
        "b = np.array([0.1, 0.2, 0.3])\n",
        "print(\"b=\", b, \"\\n\")\n",
        "\n",
        "# 入力値\n",
        "x = np.array([1.0, 5.0, 2.0, -1.0])\n",
        "print(\"x=\", x, \"\\n\")\n",
        "\n",
        "#  総入力\n",
        "u = np.dot(W, x) + b\n",
        "print(\"u=\", u, \"\\n\")\n",
        "\n",
        "# 中間層出力\n",
        "z = functions.sigmoid(u)\n",
        "print(\"z=\", z)\n"
      ],
      "execution_count": null,
      "outputs": [
        {
          "output_type": "stream",
          "name": "stdout",
          "text": [
            "W= [[0.1 0.2 0.3 0. ]\n",
            " [0.2 0.3 0.4 0.5]\n",
            " [0.3 0.4 0.5 1. ]] \n",
            "\n",
            "b= [0.1 0.2 0.3] \n",
            "\n",
            "x= [ 1.  5.  2. -1.] \n",
            "\n",
            "u= [1.8 2.2 2.6] \n",
            "\n",
            "z= [0.85814894 0.90024951 0.93086158]\n"
          ]
        }
      ]
    },
    {
      "cell_type": "markdown",
      "source": [
        "#[Section 2 活性化関数]\n",
        "\n"
      ],
      "metadata": {
        "id": "YgK86prE4PRq"
      }
    },
    {
      "cell_type": "markdown",
      "source": [
        "中間層では受け取った入力 $\\bf x$ に対する線形変換の結果 $\\bf u$ に対して、非線形関数 $\\phi$ による変換を行う。この関数 $\\phi$ を活性化関数と呼ぶ。中間層で用いられる主な活性化関数として、ステップ関数、シグモイド関数、ReLU関数が挙げられる。ステップ関数は0か1の値しかとらないので線形分離可能なものしか学習できない。シグモイド関数は信号の強弱を伝えることができるが、層が深くなると勾配消失問題を引き起こす場合がある。ReLU関数は入力値が正の時は入力値をそのまま返し、負の時は0を返す非線形関数であり、勾配消失問題を回避することができる。\n"
      ],
      "metadata": {
        "id": "D_SjCGnV4LP5"
      }
    },
    {
      "cell_type": "markdown",
      "source": [
        "## 確認テスト\n",
        "\\\n",
        "<img src=\"https://drive.google.com/uc?export=view&id=1QqY2C80wP5jXYFbCW63hj6GbhHfVg1AG\" width=50%>\n",
        "\n",
        "\n",
        "\n",
        "\n",
        "\n",
        "\n"
      ],
      "metadata": {
        "id": "agCxiDN-0nSu"
      }
    },
    {
      "cell_type": "markdown",
      "source": [
        "##[Section 2 実装演習]"
      ],
      "metadata": {
        "id": "wS6nTpUP7yVY"
      }
    },
    {
      "cell_type": "code",
      "execution_count": null,
      "metadata": {
        "colab": {
          "base_uri": "https://localhost:8080/",
          "height": 265
        },
        "id": "TvTwKiCLhNiz",
        "outputId": "4c470998-7bb9-4a03-f559-bfbb07a1eb11"
      },
      "outputs": [
        {
          "output_type": "display_data",
          "data": {
            "image/png": "[encoded data removed]",
            "text/plain": [
              "<Figure size 432x288 with 1 Axes>"
            ]
          },
          "metadata": {
            "needs_background": "light"
          }
        }
      ],
      "source": [
        "# 活性化関数\n",
        "def step(x):\n",
        "  y = np.zeros(x.shape)\n",
        "  y[x>=0] = 1\n",
        "  return y\n",
        "\n",
        "def sigmoid(x):\n",
        "  return 1/(1+np.exp(-x))\n",
        "\n",
        "def relu(x):\n",
        "  y = np.array(x)\n",
        "  y[y<0] = 0\n",
        "  return y\n",
        "\n",
        "x = np.linspace(-3, 3, 100)\n",
        "y_step = step(x)\n",
        "y_sigmoid = sigmoid(x)\n",
        "y_relu = relu(x)\n",
        "\n",
        "plt.plot(x, y_step, label=\"step\")\n",
        "plt.plot(x, y_sigmoid, label=\"sigmoid\")\n",
        "plt.plot(x, y_relu, label=\"relu\")\n",
        "plt.legend()\n",
        "plt.show()"
      ]
    },
    {
      "cell_type": "markdown",
      "source": [
        "#[Section 3 出力層]"
      ],
      "metadata": {
        "id": "R2rJ7KFUF22v"
      }
    },
    {
      "cell_type": "markdown",
      "source": [
        "## 活性化関数\n",
        "出力層の活性化関数は、回帰問題では恒等写像関数、2値分類問題ではシグモイド関数、多クラス分類問題ではソフトマックス関数が使われる。分類数が $K$ 個の多クラス分類では、ソフトマックス関数の出力値 $\\bf y$ は、データ $\\bf x$ が $k$ 番目 $(k=1,\\cdots ,K)$ のクラスに分類される確率であり、0~1の範囲をとる。また出力値の合計は１となる。\n",
        "## 誤差関数\n",
        "ニューラルネットワークの学習においては、訓練データをモデルに入力して得られた結果 $\\bf y^{(3)}$ と教師データ $\\bf t$ との誤差 $E$（損失と呼ぶ）が最小となるように最適化を行う。\\\n",
        "\\\n",
        "回帰問題では損失関数として主に2乗誤差関数が用いられる。\\\n",
        "\\\n",
        "$$ E = \\frac{1}{2}\\sum_{k} \\left( t_k - y^{(3)}_k \\right)^2 = \\frac{1}{2}{\\|{\\bf t - y^{(3)}} \\|}^2 $$\n",
        "\\\n",
        "分類問題では損失関数として交差エントロピー誤差が用いられる。\\\n",
        "2クラス分類（識別）問題の場合\\\n",
        "\\\n",
        "$$ E = -\\sum_{k}\\left(t_k\\mathrm{log}\\ y^{(3)}_k + (1-t_k)\\mathrm{log}(1-y^{(3)}_k) \\right)$$\n",
        "\\\n",
        "多クラス分類問題の場合\\\n",
        "\\\n",
        "$$ E = -\\sum_{k}t_k\\mathrm{log}\\ y^{(3)}_k $$"
      ],
      "metadata": {
        "id": "Jj4nWVP_GJhl"
      }
    },
    {
      "cell_type": "markdown",
      "source": [
        "## 確認テスト\n",
        "\\\n",
        "<img src=\"https://drive.google.com/uc?export=view&id=1RyLNQHpfFusWi4EYSbSGNiXvfhLNqia7\" width=50%>\n"
      ],
      "metadata": {
        "id": "xmilg0jF1dPt"
      }
    },
    {
      "cell_type": "markdown",
      "source": [
        "##[Section 3 実装演習]"
      ],
      "metadata": {
        "id": "D5uX6ZNw7rdj"
      }
    },
    {
      "cell_type": "code",
      "source": [
        "# 二乗誤差関数\n",
        "def mean_squared_error(d, y):\n",
        "  return np.sum((y-d)**2)\n",
        "\n",
        "# 交差エントロピー誤差関数\n",
        "def cross_entropy_error(d, y):\n",
        "  # データ数が1の時、(1,K)に次元拡張 (K:分類数)\n",
        "  if y.ndim == 1:\n",
        "    y = y[None,:]\n",
        "    d = d[None,:]\n",
        "  # 教師データはOne-hot-vectorまたは正解ラベルインデックスのどちらかで表現される。\n",
        "  # dの第2軸の要素数は正解ラベル表現の場合1,One-hot-vector表現の場合はKなので\n",
        "  # dがOne-hot-vector表現の場合はdを正解ラベルインデックスに置き換え\n",
        "  if y.shape[1] == d.shape[1]:\n",
        "    d = d.argmax(axis=1)\n",
        "\n",
        "  # データ数を取得\n",
        "  batch_size = y.shape[0]\n",
        "\n",
        "  # 交差エントロピーの計算においては、教師データの値は正解ラベルのみd=1,それ以外はd=0なので\n",
        "  # ()式ではd=1の要素のみが残る\n",
        "  y_true = y[np.arange(batch_size), d]\n",
        "\n",
        "  # ここでは batch_size = Nなので、\n",
        "  # y_true = y[:, d] としても同じ\n",
        "\n",
        "  # y=0 の時、log_y が-∞に発散しないように微小量を足して各データの交差エントロピーを計算 \n",
        "  En = - 1*np.log(y_true + delta)\n",
        "\n",
        "  # 全体の交差エントロピーはEnの平均値として求まる\n",
        "  E = np.mean(En)\n",
        "\n",
        "  return E\n",
        "\n",
        "# ソフトマックス関数\n",
        "def softmax(x):\n",
        "  # データ数が1の時、(1,K)に次元拡張 (K:分類数)\n",
        "  if x.ndim == 1:\n",
        "    x = x[:, None]\n",
        "  # オーバーフロー対策\n",
        "  x = x-np.max(x)\n",
        "  return np.exp(x) / np.sum(np.exp(x), axis=1, keepdims=True)\n"
      ],
      "metadata": {
        "id": "DgyQ1TDzN14I"
      },
      "execution_count": null,
      "outputs": []
    },
    {
      "cell_type": "markdown",
      "source": [
        "#[Section 4 勾配降下法]"
      ],
      "metadata": {
        "id": "7ME8szEsyIlf"
      }
    },
    {
      "cell_type": "markdown",
      "source": [
        "ニューラルネットワークを最適化するためには、目的関数である誤差関数 $L$ を最小化すればよい。今、与えられたパラメータ $w$ に対する関数 $L$ の勾配は $\\frac{\\partial L}{\\partial w}$ で求められる。これに学習率 $\\eta$ をかけた値を $w$ から引くことで、 Lが小さくなる方向に $w$ を更新することができる。このように勾配を用いてモデルを最適化する手法を勾配降下法と呼ぶ。\\\n",
        "\\\n",
        "勾配降下法は計算に全てのデータを用いるので、データ数に伴って計算コストも大きくなる。これに対し、パラメータの更新にランダムに抽出したサンプルの誤差を用いる場合を確率的勾配降下法と呼び、ランダムに分割したデータ集合の平均誤差を用いる場合をミニバッチ勾配降下法と呼ぶ。"
      ],
      "metadata": {
        "id": "z-tkgdv-yZ6M"
      }
    },
    {
      "cell_type": "markdown",
      "source": [
        "## 確認テスト\n",
        "\\\n",
        "<img src=\"https://drive.google.com/uc?export=view&id=1o2sxwZlUWr2M4qXO_766WnTynRatgRch\" width=50%>\n",
        "\n",
        "\n",
        "\n",
        "\n",
        "\n",
        "\n",
        "\n",
        "\\\n",
        "<img src=\"https://drive.google.com/uc?export=view&id=18IfjmDvb1np5MWgJnXIdXr_4-FaU8IYg\" width=50%>\n"
      ],
      "metadata": {
        "id": "gMqFj-N93V3a"
      }
    },
    {
      "cell_type": "markdown",
      "source": [
        "##[Section 4 実装演習]"
      ],
      "metadata": {
        "id": "yCmAo3IWEXwL"
      }
    },
    {
      "cell_type": "code",
      "metadata": {
        "id": "MvHIzue3hQWm",
        "colab": {
          "base_uri": "https://localhost:8080/",
          "height": 284
        },
        "outputId": "0bdc8092-1f83-4749-afd7-292f40380c30"
      },
      "source": [
        "# サンプルとする関数\n",
        "def f(x):\n",
        "    y = 3 * x[0] + 2 * x[1]\n",
        "    return y\n",
        "\n",
        "# 初期設定\n",
        "def init_network():\n",
        "    # print(\"##### ネットワークの初期化 #####\")\n",
        "    network = {}\n",
        "    nodesNum = 10\n",
        "    network['W1'] = np.random.randn(2, nodesNum)\n",
        "    network['W2'] = np.random.randn(nodesNum)\n",
        "    network['b1'] = np.random.randn(nodesNum)\n",
        "    network['b2'] = np.random.randn()\n",
        "\n",
        "    return network\n",
        "\n",
        "# 順伝播\n",
        "def forward(network, x):\n",
        "    # print(\"##### 順伝播開始 #####\")\n",
        "    \n",
        "    W1, W2 = network['W1'], network['W2']\n",
        "    b1, b2 = network['b1'], network['b2']\n",
        "    u1 = np.dot(x, W1) + b1\n",
        "    z1 = functions.relu(u1)\n",
        "    \n",
        "    u2 = np.dot(z1, W2) + b2\n",
        "    y = u2\n",
        "\n",
        "    return z1, y\n",
        "\n",
        "# 誤差逆伝播\n",
        "def backward(x, d, z1, y):\n",
        "    # print(\"\\n##### 誤差逆伝播開始 #####\")    \n",
        "\n",
        "    grad = {}\n",
        "    \n",
        "    W1, W2 = network['W1'], network['W2']\n",
        "    b1, b2 = network['b1'], network['b2']\n",
        "\n",
        "    # 出力層でのデルタ\n",
        "    delta2 = functions.d_mean_squared_error(d, y)\n",
        "    # b2の勾配\n",
        "    grad['b2'] = np.sum(delta2, axis=0)\n",
        "    # W2の勾配\n",
        "    grad['W2'] = np.dot(z1.T, delta2)\n",
        "    # 中間層でのデルタ\n",
        "    #delta1 = np.dot(delta2, W2.T) * functions.d_relu(z1)\n",
        "\n",
        "    ## 試してみよう\n",
        "    delta1 = np.dot(delta2, W2.T) * functions.d_sigmoid(z1)\n",
        "\n",
        "    delta1 = delta1[np.newaxis, :]\n",
        "    # b1の勾配\n",
        "    grad['b1'] = np.sum(delta1, axis=0)\n",
        "    x = x[np.newaxis, :]\n",
        "    # W1の勾配\n",
        "    grad['W1'] = np.dot(x.T, delta1)\n",
        "    \n",
        "    return grad\n",
        "\n",
        "# サンプルデータを作成\n",
        "data_sets_size = 100000\n",
        "data_sets = [0 for i in range(data_sets_size)]\n",
        "\n",
        "for i in range(data_sets_size):\n",
        "    data_sets[i] = {}\n",
        "    # ランダムな値を設定\n",
        "    data_sets[i]['x'] = np.random.rand(2)\n",
        "    \n",
        "    ## 試してみよう_入力値の設定\n",
        "    # data_sets[i]['x'] = np.random.rand(2) * 10 -5 # -5〜5のランダム数値\n",
        "    \n",
        "    # 目標出力を設定\n",
        "    data_sets[i]['d'] = f(data_sets[i]['x'])\n",
        "    \n",
        "losses = []\n",
        "# 学習率\n",
        "learning_rate = 0.07\n",
        "\n",
        "# 抽出数\n",
        "epoch = 1000\n",
        "\n",
        "# パラメータの初期化\n",
        "network = init_network()\n",
        "# データのランダム抽出\n",
        "random_datasets = np.random.choice(data_sets, epoch)\n",
        "\n",
        "# 勾配降下の繰り返し\n",
        "for dataset in random_datasets:\n",
        "    x, d = dataset['x'], dataset['d']\n",
        "    z1, y = forward(network, x)\n",
        "    grad = backward(x, d, z1, y)\n",
        "    # パラメータに勾配適用\n",
        "    for key in ('W1', 'W2', 'b1', 'b2'):\n",
        "        network[key]  -= learning_rate * grad[key]\n",
        "\n",
        "    # 誤差\n",
        "    loss = functions.mean_squared_error(d, y)\n",
        "    losses.append(loss)\n",
        "\n",
        "print(\"##### 結果表示 #####\")    \n",
        "lists = range(epoch)\n",
        "\n",
        "plt.plot(lists, losses)\n",
        "# グラフの表示\n",
        "plt.show()"
      ],
      "execution_count": null,
      "outputs": [
        {
          "output_type": "stream",
          "name": "stdout",
          "text": [
            "##### 結果表示 #####\n"
          ]
        },
        {
          "output_type": "display_data",
          "data": {
            "image/png": "[encoded data removed]",
            "text/plain": [
              "<Figure size 432x288 with 1 Axes>"
            ]
          },
          "metadata": {
            "needs_background": "light"
          }
        }
      ]
    },
    {
      "cell_type": "markdown",
      "source": [
        "# Section5: 誤差逆伝搬法"
      ],
      "metadata": {
        "id": "JA93QTS44ygk"
      }
    },
    {
      "cell_type": "markdown",
      "source": [
        "上図ニューラルネットワークの出力層(3)について考えると、\\\n",
        "\\\n",
        "$$\\begin{eqnarray}\n",
        "u^{(3)}_{k} &=& \\sum_{j=0}^{J}w^{(3)}_{kj}y^{(2)}_{j}\\\\\n",
        "y^{(3)}_{k} &=& \\phi^{(3)}(u^{(3)}_k)\n",
        "\\end{eqnarray}$$\n",
        "\\\n",
        "勾配降下法でモデルを最適化するために損失関数 $E_k$ を $\\bf w^{(3)}$ で偏微分すると、$y^{(3)}_k=\\phi(u^{(3)}_k)$ なので\\\n",
        "\\\n",
        "$$\\begin{eqnarray}\n",
        "\\frac{\\partial E}{\\partial {\\bf w}^{(3)}_k}\n",
        "&=& \\frac{\\partial E}{\\partial y^{(3)}_k}\n",
        "    \\frac{\\partial \\phi^{(3)} (u^{(3)}_k)}{\\partial u^{(3)}_k}\n",
        "    \\frac{\\partial u^{(3)}_k}{\\partial {\\bf w}^{(3)}_k}\\\\[8pt]\n",
        "\\end{eqnarray}$$\n",
        "\\\n",
        "ここで\\\n",
        "$$\n",
        "d^{(3)}_k=\\frac{\\partial E}{\\partial y^{(3)}_k} \\phi'^{(3)}(u^{(3)}_k)\n",
        "$$\n",
        "\\\n",
        "と置換すると\\\n",
        "\\\n",
        "$$\\begin{eqnarray}\n",
        "\\frac{\\partial E}{\\partial {\\bf w}^{(3)}_k} = \n",
        "d^{(3)}_k \\frac{\\partial u^{(3)}_k}{\\partial {\\bf w}^{(3)}_k}\n",
        "&=&\\left(d^{(3)}_k \\frac{\\partial u^{(3)}}{\\partial w_{k0}}, \\  \n",
        "       d^{(3)}_k \\frac{\\partial u^{(3)}}{\\partial w_{k1}}, \\ \\cdots,\\ \n",
        "       d^{(3)}_k \\frac{\\partial u^{(3)}}{\\partial w_{kJ}} \\right)\\\\[8pt]\n",
        "&=& (d^{(3)}_ky^{(2)}_0,\\ d^{(3)}_ky^{(2)}_1,\\ \\cdots,\\ d^{(3)}_ky^{(2)}_J)\\\\\n",
        "\\end{eqnarray}$$\n",
        "\\\n",
        "$k=1, 2, \\cdots ,K$ なので\\\n",
        "\\\n",
        "$$\n",
        "\\frac{\\partial {\\bf E}}{\\partial {\\bf w^{(3)}}}\n",
        "= \\left[\\begin{array}{cccc}\n",
        "  d^{(3)}_1 y^{(2)}_0 & d^{(3)}_1 y^{(2)}_1 & \\cdots & d^{(3)}_1 y^{(2)}_J\\\\\n",
        "  d^{(3)}_2 y^{(2)}_0 & d^{(3)}_2 y^{(2)}_1 & \\cdots & d^{(3)}_2 y^{(2)}_J\\\\\n",
        "  \\vdots \\\\\n",
        "  d^{(3)}_K y^{(2)}_0 & d^{(3)}_K y^{(2)}_1 & \\cdots & d^{(3)}_K y^{(2)}_J\\\\  \\end{array} \\right]\n",
        "={\\bf d^{(3)}}\\cdot{\\bf y^{(2)}}\n",
        "$$\n",
        "\\\n",
        "次に中間層(2)におけるパラメータ $\\bf w^{(2)}$ の更新のため、損失関数 $E$ を $\\bf w^{(2)}$ で偏微分すると\\\n",
        "\\\n",
        "$$\n",
        "\\frac{\\partial E}{\\partial {\\bf w}^{(2)}_j}\n",
        "= \\frac{\\partial E}{\\partial {\\bf y}^{(3)}}\n",
        "\\frac{\\partial {\\bf y}^{(3)}}{\\partial {\\bf u}^{(3)}}\n",
        "\\frac{\\partial {\\bf u}^{(3)}}{\\partial y^{(2)}_j}\n",
        "\\frac{\\partial y^{(2)}_j}{\\partial u^{(2)}_j}\n",
        "\\frac{\\partial u^{(2)}_j}{\\partial {\\bf w}^{(2)}_j}\n",
        "$$\n",
        "\\\n",
        "ここで\\\n",
        "\\\n",
        "$$\n",
        "\\frac{\\partial {\\bf u}^{(3)}}{\\partial y^{(2)}_j}\n",
        "=\\frac{\\partial}{\\partial y^{(2)}_j}\n",
        "\\left[\\begin{array}{c}\n",
        "w^{(3)}_{10}y^{(2)}_0 + w^{(3)}_{11}y^{(2)}_1+\\cdots+w^{(3)}_{1J}y^{(2)}_J \\\\\n",
        "\\vdots \\\\\n",
        "w^{(3)}_{k0}y^{(2)}_0 + w^{(3)}_{k1}y^{(2)}_1+\\cdots+w^{(3)}_{kJ}y^{(2)}_J \\\\\n",
        "\\vdots \\\\\n",
        "w^{(3)}_{K0}y^{(2)}_0 + w^{(3)}_{K1}y^{(2)}_1+\\cdots+w^{(3)}_{KJ}y^{(2)}_J \\\\\n",
        "\\end{array} \\right]\\\n",
        "=\\sum_kw^{(3)}_{kj}\n",
        "$$\n",
        "\\\n",
        "なので\\\n",
        "$$\\begin{eqnarray}\n",
        "\\frac{\\partial E}{\\partial {\\bf w}^{(2)}_j}\n",
        "&=&\\left( \\sum_k d^{(3)}_k w^{(3)}_{kj} \\right)\\phi'^{(2)}(u^{(2)}_j) \n",
        "\\frac{\\partial u^{(2)}_j}{\\partial {\\bf w}^{(2)}_j} \\\\[8pt]\n",
        "&=& d^{(2)}_j \\frac{\\partial u^{(2)}_j}{\\partial {\\bf w}^{(2)}_j}\n",
        ",\\quad d^{(2)}_j=\\left(\\sum_{k}d^{(3)}_kw^{(3)}_{kj}\\right)\\phi'^{(2)}(u^{(2)}_j) \\\\[8pt]\n",
        "&=&\\left(d^{(2)}_jy^{(1)}_0,\\ d^{(2)}_jy^{(1)}_1,\\ \\cdots,\\ d^{(2)}_jy^{(1)}_I \\right)\n",
        "\\end{eqnarray}$$\n",
        "\\\n",
        "$j=0, 1, \\cdots ,J$ を考えると\\\n",
        "\\\n",
        "$$\n",
        "\\frac{\\partial E}{\\partial {\\bf w^{(2)}}}={\\bf d^{(2)}}\\cdot{\\bf y^{(1)}}\n",
        "$$\n",
        "\\\n",
        "中間層(1)についても同様に考える事ができて\\\n",
        "\\\n",
        "$$\n",
        "\\frac{\\partial E}{\\partial {\\bf w^{(1)}}}={\\bf d^{(1)}}\\cdot{\\bf x}\n",
        "\\ ,\\quad d^{(1)}_i=\\left(\\sum_{j}d^{(2)}_jw^{(2)}_{ji}\\right)\\phi'^{(1)}(u^{(1)}_i)\n",
        "$$\n",
        "\\\n",
        "一連の計算から各層における $E$ の勾配は、出力層における $E$ の微分を出力層からその層まで順に伝搬させた結果である言える。\\\n",
        "\\\n",
        "ここで出力層における $d_k$ （肩括弧は省略）を導出する。\\\n",
        "回帰問題において、損失関数に2乗誤差関数、活性化関数に恒等関数 $\\phi(u) = u$ を用いると、$\\phi'(u) = 1$ なので、\\\n",
        "\\\n",
        "$$\\begin{eqnarray}\n",
        "d_k\n",
        "&=& \\frac{\\partial E}{\\partial y_k} \\phi'(u_k) \\\\[8pt]\n",
        "&=& \\frac{\\partial}{\\partial y_k}\n",
        "\\left(\\frac{1}{2}\\sum_{k}{(t_k - y_k)}^2 \\right) \\cdot 1 \\\\[8pt]\n",
        "&=& y_k - t_k\n",
        "\\end{eqnarray}$$\n",
        "\\\n",
        "2クラス分類問題では、損失関数に交差エントロピー誤差関数、活性化関数にシグモイド関数 $\\phi(u) = 1/\\{1+\\mathrm{exp}(-u)\\}$ を用いると、$\\phi'(u) = \\phi(u)(1-\\phi(u))$ なので、\\\n",
        "\\\n",
        "$$\\begin{eqnarray}\n",
        "d_k\n",
        "&=& -\\frac{\\partial}{\\partial y_k}\n",
        "\\left(\\sum_{k} t_k\\mathrm{log}\\ y_k + (1-t_k)\\mathrm{log}(1-y_k) \\right)\n",
        "\\cdot \\phi'(u_k)\\\\[8pt]\n",
        "&=& -\\left( \\frac{t_k}{y_k} - \\frac{1-t_k}{1-y_k} \\right) \\cdot \\phi'(u_k) \\\\[8pt]\n",
        "&=& - \\frac{t_k(1-y_k)-y_k(1-t_k)}{y_k(1-y_k)}\\cdot y_k(1-y_k) \\\\[4pt]\n",
        "&=& y_k-t_k\n",
        "\\end{eqnarray}$$\n",
        "\\\n",
        "多クラス分類問題では、損失関数に交差エントロピー誤差関数、活性化関数にソフトマックス関数 $\\phi(u) = \\mathrm{exp}(u_k)/\\sum_{k}\\mathrm{exp}(u_k)$ を用いると、\\\n",
        "\\\n",
        "$$\\begin{eqnarray}\n",
        "E = -\\sum_{l=1}^{K} t_l \\mathrm{log}(y_l)\n",
        "=-\\sum_{l=1}^K t_l \\mathrm{log}\\left( \\frac{\\mathrm{exp}(u_l)}{\\sum_{l'}\\mathrm{exp}(u_{l'})} \\right)\n",
        "=-\\sum_{l=1}^K \\left( t_l u_l - t_l \\mathrm{log}\\sum_{l'}\\mathrm{exp}(u_{l'}) \\right)\\\\[10pt]\n",
        "d_k = \\frac{\\partial E}{\\partial u_k}\n",
        "= -t_k + \\sum_{l=1}^K \\left(t_l \\frac{\\mathrm{exp}(u_k)}{\\sum_{l'}\\mathrm{exp}(u_{l'})} \\right)\n",
        "= y_k\\sum_{l=1}^K t_l-t_k = y_k-t_k\n",
        "\\quad \\left(\\because \\sum_{l=1}^K t_l = 1 \\right)\n",
        "\\end{eqnarray}$$\n",
        "\\\n",
        "まとめると\\\n",
        "\\\n",
        "$$\\begin{align}\n",
        "& \\frac{\\partial E}{\\partial \\bf w}^{(l)} = {\\bf d}^{(l)}\\cdot{\\bf y}^{(l-1)}\\\\[8pt]\n",
        "& d^{(l)}_i = \\begin{cases}\n",
        "  y^{(l)}_i-t^{(l)}_i & (\\mbox{if } l \\mbox{ is output layer}) \\\\[8pt]\n",
        "  \\left(\\sum_{j}d^{(l+1)}_jw^{(l+1)}_{ji}\\right)\\phi{'}^{(l)}(u^{(l)}_i) & (\\mbox{otherwise})\n",
        "\\end{cases}\n",
        "\\end{align}$$\n"
      ],
      "metadata": {
        "id": "qJ3fr4ge4yQN"
      }
    },
    {
      "cell_type": "markdown",
      "source": [
        "## 確認テスト\n",
        "\\\n",
        "<img src=\"https://drive.google.com/uc?export=view&id=1BYUCwMkIvVOIN6Ljuoyuy-uYsfDU_Vyf\" width=50%>\n"
      ],
      "metadata": {
        "id": "VIc2QPhW6Sh3"
      }
    },
    {
      "cell_type": "markdown",
      "source": [
        "##[Section 5 実装演習]"
      ],
      "metadata": {
        "id": "JWpXhSnt7ldd"
      }
    },
    {
      "cell_type": "code",
      "metadata": {
        "id": "AMva1WVaintz",
        "colab": {
          "base_uri": "https://localhost:8080/",
          "height": 284
        },
        "outputId": "c86adf72-d439-45b9-d012-868cd8a9b3ef"
      },
      "source": [
        "import numpy as np\n",
        "from data.mnist import load_mnist\n",
        "import pickle\n",
        "\n",
        "# mnistをロード\n",
        "(x_train, d_train), (x_test, d_test) = load_mnist(normalize=True, one_hot_label=True)\n",
        "train_size = len(x_train)\n",
        "\n",
        "print(\"データ読み込み完了\")\n",
        "\n",
        "# 重み初期値補正係数\n",
        "wieght_init = 0.01 # 変更してみよう\n",
        "#入力層サイズ\n",
        "input_layer_size = 784 # 変更してみよう\n",
        "#中間層サイズ\n",
        "hidden_layer_size = 40 # 変更してみよう\n",
        "#出力層サイズ\n",
        "output_layer_size = 10 # 変更してみよう\n",
        "# 繰り返し数\n",
        "iters_num = 1000 # 変更してみよう\n",
        "# ミニバッチサイズ\n",
        "batch_size = 100 # 変更してみよ\n",
        "# 学習率\n",
        "learning_rate = 0.1 # 変更してみよう\n",
        "# 描写頻度\n",
        "plot_interval=10\n",
        "\n",
        "# 初期設定\n",
        "def init_network():\n",
        "    network = {} \n",
        "    network['W1'] = wieght_init * np.random.randn(input_layer_size, hidden_layer_size)\n",
        "    network['W2'] = wieght_init * np.random.randn(hidden_layer_size, output_layer_size)\n",
        "    # 試してみよう_Xavierの初期値\n",
        "    # network['W1'] = np.random.randn(input_layer_size, hidden_layer_size) / np.sqrt(input_layer_size)\n",
        "    # network['W2'] = np.random.randn(hidden_layer_size, output_layer_size) / np.sqrt(hidden_layer_size)\n",
        "    # 試してみよう Heの初期値\n",
        "    # network['W1'] = np.random.randn(input_layer_size, hidden_layer_size) / np.sqrt(input_layer_size) * np.sqrt(2)\n",
        "    # network['W2'] = np.random.randn(hidden_layer_size, output_layer_size) / np.sqrt(hidden_layer_size) * np.sqrt(2)\n",
        "\n",
        "    network['b1'] = np.zeros(hidden_layer_size)\n",
        "    network['b2'] = np.zeros(output_layer_size)\n",
        "\n",
        "    return network\n",
        "\n",
        "# 順伝播\n",
        "def forward(network, x):\n",
        "    W1, W2 = network['W1'], network['W2']\n",
        "    b1, b2  = network['b1'], network['b2']\n",
        "        \n",
        "    u1 =  np.dot(x, W1) + b1\n",
        "    z1 = functions.relu(u1)\n",
        "    u2 =  np.dot(z1, W2) + b2\n",
        "    y = functions.softmax(u2)\n",
        " \n",
        "    return z1, y\n",
        "\n",
        "# 誤差逆伝播\n",
        "def backward(x, d, z1, y):\n",
        "    grad = {}\n",
        "    \n",
        "    W1, W2 = network['W1'], network['W2']\n",
        "    b1, b2 = network['b1'], network['b2']    \n",
        "    # 出力層でのデルタ\n",
        "    delta2 = functions.d_softmax_with_loss(d, y)\n",
        "    # b2の勾配\n",
        "    grad['b2'] = np.sum(delta2, axis=0)\n",
        "    # W2の勾配\n",
        "    grad['W2'] = np.dot(z1.T, delta2)\n",
        "    # 1層でのデルタ\n",
        "    delta1 = np.dot(delta2, W2.T) * functions.d_relu(z1)\n",
        "    # b1の勾配\n",
        "    grad['b1'] = np.sum(delta1, axis=0)\n",
        "    # W1の勾配\n",
        "    grad['W1'] = np.dot(x.T, delta1)\n",
        "\n",
        "    return grad\n",
        "\n",
        "# パラメータの初期化\n",
        "network = init_network()\n",
        "\n",
        "accuracies_train = []\n",
        "accuracies_test = []\n",
        "\n",
        "# 正答率\n",
        "def accuracy(x, d):\n",
        "    z1, y = forward(network, x)\n",
        "    y = np.argmax(y, axis=1)\n",
        "    if d.ndim != 1 : d = np.argmax(d, axis=1)\n",
        "    accuracy = np.sum(y == d) / float(x.shape[0])\n",
        "    return accuracy\n",
        "\n",
        "for i in range(iters_num):\n",
        "    # ランダムにバッチを取得    \n",
        "    batch_mask = np.random.choice(train_size, batch_size)\n",
        "    # ミニバッチに対応する教師訓練画像データを取得    \n",
        "    x_batch = x_train[batch_mask]\n",
        "    # ミニバッチに対応する訓練正解ラベルデータを取得する\n",
        "    d_batch = d_train[batch_mask]\n",
        "    \n",
        "    z1, y = forward(network, x_batch)\n",
        "    grad = backward(x_batch, d_batch, z1, y)\n",
        "\n",
        "    if (i+1)%plot_interval==0:\n",
        "        accr_test = accuracy(x_test, d_test)\n",
        "        accuracies_test.append(accr_test)\n",
        "        \n",
        "        accr_train = accuracy(x_batch, d_batch)\n",
        "        accuracies_train.append(accr_train)\n",
        "\n",
        "        # print('Generation: ' + str(i+1) + '. 正答率(トレーニング) = ' + str(accr_train))\n",
        "        # print('                : ' + str(i+1) + '. 正答率(テスト) = ' + str(accr_test))\n",
        "\n",
        "    # パラメータに勾配適用\n",
        "    for key in ('W1', 'W2', 'b1', 'b2'):\n",
        "        network[key]  -= learning_rate * grad[key]\n",
        "\n",
        "lists = range(0, iters_num, plot_interval)\n",
        "plt.plot(lists, accuracies_train, label=\"training set\")\n",
        "plt.plot(lists, accuracies_test,  label=\"test set\")\n",
        "plt.legend(loc=\"lower right\")\n",
        "# plt.title(\"正答率\")\n",
        "# グラフの表示\n",
        "plt.show()"
      ],
      "execution_count": null,
      "outputs": [
        {
          "output_type": "stream",
          "name": "stdout",
          "text": [
            "データ読み込み完了\n"
          ]
        },
        {
          "output_type": "display_data",
          "data": {
            "image/png": "[encoded data removed]",
            "text/plain": [
              "<Figure size 432x288 with 1 Axes>"
            ]
          },
          "metadata": {
            "needs_background": "light"
          }
        }
      ]
    }
  ]
}
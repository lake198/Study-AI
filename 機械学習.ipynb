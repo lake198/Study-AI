{
  "nbformat": 4,
  "nbformat_minor": 0,
  "metadata": {
    "colab": {
      "name": "機械学習.ipynb",
      "provenance": [],
      "authorship_tag": "ABX9TyMwvZTHAorn7wDtROso7mqL",
      "include_colab_link": true
    },
    "kernelspec": {
      "name": "python3",
      "display_name": "Python 3"
    },
    "language_info": {
      "name": "python"
    }
  },
  "cells": [
    {
      "cell_type": "markdown",
      "metadata": {
        "id": "view-in-github",
        "colab_type": "text"
      },
      "source": [
        "<a href=\"https://colab.research.google.com/github/lake198/Study-AI/blob/main/%E6%A9%9F%E6%A2%B0%E5%AD%A6%E7%BF%92.ipynb\" target=\"_parent\"><img src=\"https://colab.research.google.com/assets/colab-badge.svg\" alt=\"Open In Colab\"/></a>"
      ]
    },
    {
      "cell_type": "code",
      "source": [
        "%matplotlib inline\n",
        "import numpy as np\n",
        "import matplotlib.pyplot as plt"
      ],
      "metadata": {
        "id": "iZtP-Xu3d8RR"
      },
      "execution_count": null,
      "outputs": []
    },
    {
      "cell_type": "markdown",
      "source": [
        "# 1. 線形回帰モデル"
      ],
      "metadata": {
        "id": "CHkKbchApSPG"
      }
    },
    {
      "cell_type": "markdown",
      "source": [
        "線形回帰モデルは、説明変数$x$と目的変数$y$の関係が線形であると仮定する。\\\n",
        "$x$が一つ（1次元）の場合は\\\n",
        "\\\n",
        "$$ y=wx+b $$\\\n",
        "$x$がm個（m次元）の場合は\\\n",
        "\\\n",
        "$$ y=w_1x_1 + w_2x_2 + \\cdots + b\n",
        "    =(w_1,w_2,\\cdots,w_m)\\cdot \\left(\n",
        "    \\begin{array}{c}\n",
        "      x_1 \\\\\n",
        "      x_2 \\\\\n",
        "      \\vdots \\\\\n",
        "      x_m\n",
        "    \\end{array}\n",
        "    \\right) +b \n",
        "= \\bf{w^Tx+b} \\cdots(1)\n",
        "$$\n",
        "\\\n",
        "wは重み、bはバイアスと呼ばれ、線形モデルを特徴づけるパラメータである。モデルによる予測結果と実際の結果の差異が最も小さくなるように$w$と$b$を決定することを回帰と呼ぶ。\\\n",
        "ある入力値$x$に対して実際の結果を$t$（目標値と呼ぶ）、モデルによる計算結果を$y$（予測値と呼ぶ）としたとき、モデルと結果の差異は誤差$l$として次式で表される。\\\n",
        "\\\n",
        "$$\n",
        "l=t-y\n",
        "$$\n",
        "\\\n",
        "今、$n$個のデータがある時、全ての入力$x$に対する誤差$l$の2乗の和$L$は次式で計算される。\\\n",
        "\\\n",
        "$$\n",
        "L=\\sum_{i=1}^n{l_i}^2=\\sum_{i=1}^n{(t_i-y_i)}^2\\cdots(2)\n",
        "$$\n",
        "\\\n",
        "この誤差二乗平均$L$を最小化する$w$と$b$が、この線形モデルを最適化するために求めるパラメータとなる。またこの$L$はモデルを最適化するための関数であるため、目的関数と呼ばれる。\\\n",
        "\\\n",
        "(1.1)式において$b=w_0\\cdot1$と置くと\\\n",
        "\\\n",
        "$$\n",
        "y=(w_0, w_1,\\cdots,w_m)\\cdot \\left(\n",
        "\\begin{array}{c}\n",
        "1 \\\\\n",
        "x_1 \\\\\n",
        "\\vdots \\\\\n",
        "x_m\n",
        "\\end{array}\n",
        "\\right)\n",
        "+b=\\bf{w}^T\\bf{x}\\cdots(3)\n",
        "$$\n",
        "\\\n",
        "(2)式を変形して\\\n",
        "\\\n",
        "$$\n",
        "L=[t_1-y_1, t_2-y_2, \\cdots]\n",
        "\\left[ \\begin{array}{c}\n",
        "t_1-y_1 \\\\ t_2-y_2 \\\\ \\vdots \\\\\n",
        "\\end{array} \\right]\n",
        "= \\bf{(t-y)}^T \\bf{(t-y)} \\cdots(4)\n",
        "$$\n",
        "\\\n",
        "(3)において$\\bf{w}^T \\bf{x} = \\bf{x}^T \\bf{w}$より\\\n",
        "\\\n",
        "$$\n",
        "\\bf{y} = \\left[\\begin{array}{c}\n",
        "y_1 \\\\ y_2 \\\\ \\vdots \\\\ y_n \\\\\n",
        "\\end{array} \\right]\n",
        "=\\left[ \\begin{array}{c}\n",
        "\\bf{x}_1^T \\\\ \\bf{x}_2^T \\\\ \\vdots \\\\ \\bf{x}_n^T \\\\\n",
        "\\end{array} \\right] \\bf{w}\n",
        "=\\left[ \\begin{array}{cccc}\n",
        "  x_{10} & x_{11} & \\cdots & x_{1m} \\\\\n",
        "  x_{20} & x_{21} & \\cdots & x_{2m} \\\\\n",
        "  \\vdots & \\vdots & &\\vdots \\\\\n",
        "  x_{n0} & x_{n1} & \\cdots & x_{nm} \\\\\n",
        "\\end{array} \\right] \\bf{w}\n",
        "=\\bf{X} \\bf{w} \\cdots(5)\n",
        "$$\n",
        "\\\n",
        "(5)を(4)に代入して\\\n",
        "\\\n",
        "$$\n",
        "L=(\\bf{t} - \\bf{X} \\bf{w})^T(\\bf{t} - \\bf{X} \\bf{w})\n",
        "=\\bf{t}^T\\bf{t} - \\bf{t}^T\\bf{X}\\bf{w} - \\bf{w}^T\\bf{X}^T\\bf{t} + \\bf{w}^T\\bf{X}^T\\bf{X}\\bf{w}\\cdots(6)\n",
        "$$\n",
        "\\\n",
        "ここで$\\bf{t}^T$、$\\bf{X}$、$\\bf{w}$はそれぞれ$(1\\times N)$、$(N\\times M)$、$(M \\times 1)$の行列であるため$\\bf{t}^T\\bf{X}\\bf{w}$はスカラ値である。従って\\\n",
        "\\\n",
        "$$\n",
        "\\bf{t}^T\\bf{X}\\bf{w}=(\\bf{t}^T\\bf{X}\\bf{w})^T=\\bf{w}^T\\bf{X}^T\\bf{t}\\cdots(7)\n",
        "$$\n",
        "\\\n",
        "(6)(7)式より\\\n",
        "\\\n",
        "$$\n",
        "L=\\bf{t}^T\\bf{t} -2 \\bf{t}^T\\bf{X}\\bf{w} + \\bf{w}^T\\bf{X}^T\\bf{X}\\bf{w}\\cdots(8)\n",
        "$$\n",
        "\\\n",
        "$L$を各$w_i$の2次関数としてみた場合は下に凸な形となるため、$L$を最小とするパラメータ$w$を求めるためには $\\frac{\\partial L}{\\partial w}=0$ を解けばよい。 $\\frac{\\partial}{\\partial w}(\\bf{w}^T\\bf{A}\\bf{w})=\\bf{w}^T(\\bf{A}+\\bf{A}^T)$を用いると、(8)式より\\\n",
        "\\\n",
        "$$\n",
        "\\frac{\\partial L}{\\partial w}= -2 \\bf{t}^T\\bf{X} + 2\\bf{w}^T\\bf{X}^T\\bf{X}=0 \\\\\n",
        "\\bf{w}^T\\bf{X}^T\\bf{X}=\\bf{t}^T\\bf{X}\n",
        "$$\n",
        "\\\n",
        "両辺を転置して\\\n",
        "\\\n",
        "$$\n",
        "\\bf{X}^T\\bf{X}\\bf{w}=\\bf{X}^T\\bf{t}\n",
        "$$\n",
        "\\\n",
        "両辺に$(\\bf{X}^T\\bf{X})^{-1}$を掛けて\\\n",
        "\\\n",
        "$$\n",
        "\\bf{w}=(\\bf{X}^T\\bf{X})^{-1}\\bf{X}^T\\bf{t}\n",
        "$$\n",
        "\n",
        "\n",
        "\n"
      ],
      "metadata": {
        "id": "66IJY2anrWoA"
      }
    },
    {
      "cell_type": "code",
      "source": [
        "# 線形結合\n",
        "def mul_linear_func(x):\n",
        "    ww = [1., 0.5, 2., 1.]\n",
        "    print('true_w = (' + ', '.join(['{:.2f}'.format(v) for v in ww]) + ')')\n",
        "    return ww[0] + ww[1] * x[:, 0] + ww[2] * x[:, 1] + ww[3] * x[:, 2]\n",
        "\n",
        "def add_noise(y_true, var):\n",
        "    return y_true + np.random.normal(scale=var, size=y_true.shape)\n",
        "\n",
        "def add_one(x):\n",
        "    return np.concatenate([np.ones((x.shape[0],1)), x], axis=1)\n",
        "\n",
        "n_sample = 100\n",
        "x_dim = 3\n",
        "var = .2\n",
        "\n",
        "# 訓練データ生成\n",
        "X = np.random.random((n_sample, x_dim))\n",
        "y_true = mul_linear_func(X)\n",
        "y_train = add_noise(y_true, var)\n",
        "\n",
        "# x_i0 = 1 をデータ行列に追加\n",
        "X_train = add_one(X)\n",
        "\n",
        "# パラメータwを計算\n",
        "pinv = np.dot(np.linalg.inv(np.dot(X_train.T, X_train)), X_train.T)\n",
        "w = np.dot(pinv, y_train)\n",
        "\n",
        "print('pred_w = (' + ', '.join(['{:.2f}'.format(v) for v in w]) + ')')\n"
      ],
      "metadata": {
        "id": "78HYdvMjrXiM",
        "colab": {
          "base_uri": "https://localhost:8080/"
        },
        "outputId": "779d4346-f8cb-490a-8ca2-4e6d3aeb62d9"
      },
      "execution_count": null,
      "outputs": [
        {
          "output_type": "stream",
          "name": "stdout",
          "text": [
            "true_w = (1.00, 0.50, 2.00, 1.00)\n",
            "pred_w = (0.95, 0.48, 1.99, 1.13)\n"
          ]
        }
      ]
    },
    {
      "cell_type": "markdown",
      "source": [
        "# 非線形回帰モデル"
      ],
      "metadata": {
        "id": "xzaGP1FVpmoA"
      }
    },
    {
      "cell_type": "markdown",
      "source": [
        "説明変数$x$と目的変数$y$の関係が線形でない場合、非線形回帰モデルを用いる。非線形モデルは既知の非線形関数 $\\phi(x)$ とモデルの特徴パラメータの線形結合であり、1-(5)式において $X \\rightarrow \\Phi(X)$ と置き換えた形で表される。\\\n",
        "\\\n",
        "$$\n",
        "\\bf{y} = \\Phi(\\bf{X}) \\bf{w}\n",
        "$$\n",
        "\\\n",
        "モデルを最適化するための目的関数を各入力に対する二乗誤差の和とした場合、1-(9)式において $X \\rightarrow \\Phi(X)$ と置き換えることで$\\bf{w}$を求めることができる。\\\n",
        "\\\n",
        "$$\n",
        "\\bf{w}=(\\Phi(\\bf{X})^T\\Phi(\\bf{X}))^{-1}\\Phi(\\bf{X})^T\\bf{t}\n",
        "$$\n",
        "\\\n",
        "非線形回帰モデルは線形回帰モデルと比較して高い表現力を持つが、その反面で過学習が起きやすいというデメリットもある。また最適な基底関数を選択するためには、ある程度の予備知識や試行錯誤が必要となる場合もある。"
      ],
      "metadata": {
        "id": "UFLZod_HxN92"
      }
    },
    {
      "cell_type": "code",
      "source": [
        "def sin_func(x):\n",
        "    return np.sin(2 * np.pi * x) \n",
        "\n",
        "def add_noise(y_true, var):\n",
        "    return y_true + np.random.normal(scale=var, size=y_true.shape)\n",
        "\n",
        "def plt_result(xs, ys_true, ys):\n",
        "    plt.scatter(xs, ys,facecolor=\"none\", edgecolor=\"b\", s=50,  label=\"training data\")\n",
        "    plt.plot(xs, ys_true, label=\"$\\sin(2\\pi x)$\")\n",
        "    plt.legend()\n",
        "\n",
        "# 基底関数 φ=x^k\n",
        "def polynomial_features(xs, degree=3):\n",
        "    X = np.ones((xs.shape[0], degree+1))\n",
        "    for i in range(degree+1):\n",
        "      X[:,i] = xs**i\n",
        "    return X\n",
        "\n",
        "n_sample = 10\n",
        "var = .25\n",
        "\n",
        "#データの作成\n",
        "xs = np.linspace(0, 1, n_sample)\n",
        "ys_true = sin_func(xs)\n",
        "ys = add_noise(ys_true, var)\n",
        "\n",
        "Phi = polynomial_features(xs)\n",
        "Phi_inv = np.dot(np.linalg.inv(np.dot(Phi.T, Phi)), Phi.T)\n",
        "w = np.dot(Phi_inv, ys)\n",
        "\n",
        "ys_pred = np.dot(Phi, w)\n",
        "\n",
        "#結果の描画\n",
        "plt.scatter(xs, ys, edgecolor=\"b\", s=50, label=\"train_data\")\n",
        "plt.plot(xs, ys_true, label=\"true\")\n",
        "plt.plot(xs, ys_pred, label=\"prediction\")\n",
        "plt.legend()\n",
        "plt.show()\n"
      ],
      "metadata": {
        "colab": {
          "base_uri": "https://localhost:8080/",
          "height": 265
        },
        "id": "2jqOUHMhe7mR",
        "outputId": "a12b9770-8a6e-4498-97bb-0c4cb2cfaffc"
      },
      "execution_count": null,
      "outputs": [
        {
          "output_type": "display_data",
          "data": {
            "image/png": "[encoded data removed]",
            "text/plain": [
              "<Figure size 432x288 with 1 Axes>"
            ]
          },
          "metadata": {
            "needs_background": "light"
          }
        }
      ]
    },
    {
      "cell_type": "markdown",
      "source": [
        "# ロジスティック回帰モデル"
      ],
      "metadata": {
        "id": "BMaWRwZ9ptPQ"
      }
    },
    {
      "cell_type": "markdown",
      "source": [
        "ロジスティック回帰は、説明変数 $x$ に対する目的変数 $y$ を0または1の2値とし、$y=1$ となる確率を予測するためのモデルである。入力値 $x$ と重みパラメータ $w$ の線形結合をシグモイド関数$\\sigma$に入力した結果が求める確率となる。\\\n",
        "\\\n",
        "$$\n",
        "P(y=1 \\mid {\\bf{x}}) = \\sigma({\\bf{w^Tx}})\\cdots(1)\n",
        "$$\n",
        "\\\n",
        "シグモイド関数は次式で定義される。\\\n",
        "\\\n",
        "$$\n",
        "\\sigma(x) = \\{ 1+\\mathrm{exp}(-x) \\}^{-1}\\cdots(2)\n",
        "$$\n",
        "\\\n",
        "今、1回の試行において $y=1$ となる確率を $p$ とすると、結果が $y$ となる確率 $P(y)$ は次式となる。\\\n",
        "\\\n",
        "$$\n",
        "P(y) = p^{y}(1-p)^{1-y}\n",
        "$$\n",
        "\\\n",
        "次に $n$ 回の試行を行ったとき、結果 ${\\bf{y}}=(y_1, y_2, \\cdots, y_n)$ が同時に起こる確率を尤度と呼ぶ。尤度 $L$ は確率モデルがどの程度、実際の結果に則しているかを示す指標であり、次式で表される。\\\n",
        "\\\n",
        "$$\n",
        "L = \\prod_{i=1}^n p_i^{y_i}(1-p_i)^{1-y_i}\n",
        "$$\n",
        "\\\n",
        "与えられたデータの下で尤度が最大となるようにモデルのパラメータを決定する方法を最尤推定と呼ぶ。尤度は、1より小さな値の積となるため、算出結果は非常に小さな値になやすい。そこで最尤推定を行う際は、尤度の対数をとった対数尤度 $\\mathrm{log}L$ を用いる。対数関数は単調増加関数であるため、尤度を最大化するには対数尤度を最大にすればよい。\\\n",
        "\\\n",
        "$$\n",
        "\\mathrm{log}L = \\sum_{i=1}^n \\{ y_i \\mathrm{log}(p_i)+(1-y_i) \\mathrm{log}(1-p_i) \\}\\cdots(3)\n",
        "$$\n",
        "\\\n",
        "ここで、モデルの目的関数を $E =-\\mathrm{log}L$ と定義する。対数尤度を最大にすることは、目的関数 $E$ を最小化することと等しい。$E$ を最小化するためには、勾配降下法を用いる。次式によってパラメータ $\\bf{w}$ の更新を繰り返し、最終的に $\\bf{w}$ が収束したところを最適解として決定する。ここでの $\\eta$ は学習率と呼ばれるハイパーパラメータであり、この値を変更して収束のしやすさを調整する。\\\n",
        "\\\n",
        "$$\n",
        "{\\bf w}_{k+1}={\\bf w}_{k}-\\eta \\frac{\\partial E}{\\partial {\\bf w}}\n",
        "$$\n",
        "\\\n",
        "(3)式より\\\n",
        "\\\n",
        "$$\n",
        "\\frac{\\partial E}{\\partial {\\bf w}}\n",
        "=-\\frac{\\partial \\mathrm{log}L}{\\partial {\\bf w}}\n",
        "=-\\sum_{i=1}^n \\left( \\frac{y_i}{p_i}-\\frac{1-y_i}{1-p_i} \\right)\\frac{\\partial p_i}{\\partial {\\bf w}}\\cdots(4)\n",
        "$$\n",
        "\\\n",
        "(1)(2)より、確率 $p$ は $z={\\bf w}^T{\\bf x}$ のシグモイド関数 $\\sigma(z)$ と書けるので、\\\n",
        "\\\n",
        "$$\n",
        "\\frac{\\partial p_i}{\\partial {\\bf w}}\n",
        "=\\frac{\\partial \\sigma(z_i)}{\\partial z_i}\\frac{\\partial z_i}{\\partial {\\bf w}}\n",
        "=\\sigma(z_i)(1-\\sigma(z_i)){\\bf x_i}\n",
        "=p_i(1-p_i){\\bf x_i}\n",
        "$$\n",
        "\\\n",
        "これを(4)式に代入して\\\n",
        "\\\n",
        "$$\n",
        "\\begin{eqnarray}\n",
        "\\frac{\\partial E}{\\partial {\\bf w}}\n",
        "&=& -\\sum_{i=1}^n \\left( \\frac{y_i}{p_i}-\\frac{1-y_i}{1-p_i} \\right)p_i(1-p_i){\\bf x_i} \\\\\n",
        "&=&-\\sum_{i=1}^n \\left\\{ \\frac{y_i(1-p_i)-p_i(1-y_i)}{p_i(1-p_i)} \\right\\} p_i(1-p_i){\\bf x_i} \\\\\n",
        "&=&-\\sum_{i=1}^n \\left(y_i-p_i \\right){\\bf x_i}\n",
        "\\end{eqnarray}\n",
        "$$\n",
        "\n",
        "\n"
      ],
      "metadata": {
        "id": "sPTT0rWO9DFx"
      }
    },
    {
      "cell_type": "code",
      "source": [
        "def gen_data(n_sample, harf_n_sample):\n",
        "    x0 = np.random.normal(size=n_sample).reshape(-1, 2) - 1.\n",
        "    x1 = np.random.normal(size=n_sample).reshape(-1, 2) + 1.    \n",
        "    x_train = np.concatenate([x0, x1])\n",
        "    y_train = np.concatenate([np.zeros(harf_n_sample), np.ones(harf_n_sample)]).astype(np.int)\n",
        "    return x_train, y_train\n",
        "\n",
        "def plt_data(x_train, y_train):\n",
        "    plt.scatter(x_train[:, 0], x_train[:, 1], c=y_train, edgecolor=\"b\", s=50, label=\"training data\")\n",
        "    plt.legend()\n",
        "    plt.show()\n",
        "\n",
        "def add_one(x):\n",
        "    return np.concatenate([np.ones((x.shape[0],1)), x], axis=1)\n",
        "\n",
        "def sigmoid(x):\n",
        "    return 1 / (1 + np.exp(-x))\n",
        "\n",
        "def random_data_select(x_train, y_train, n=1):\n",
        "    idx = np.random.choice(x_train.shape[0], n, replace=False)\n",
        "    x_train = x_train[idx]\n",
        "    y_train = y_train[idx]\n",
        "    return x_train, y_train\n",
        "\n",
        "def sgd(x_train, y_train, max_iter, eta, n):\n",
        "    w = np.zeros(x_train.shape[1])\n",
        "    for i in range(max_iter):\n",
        "        w_prev = np.copy(w)\n",
        "\n",
        "        # 訓練データからn個のデータをランダムに取得\n",
        "        new_x_train, new_y_train = random_data_select(x_train, y_train, n)\n",
        "\n",
        "        sigma = sigmoid(np.dot(new_x_train, w))\n",
        "        grad = np.dot(new_x_train.T, (sigma - new_y_train))\n",
        "        # パラメータ更新\n",
        "        w -= eta * grad\n",
        "        if np.allclose(w, w_prev):\n",
        "            return i, w\n",
        "    return i, w\n",
        "\n",
        "n_sample = 100\n",
        "harf_n_sample = 50\n",
        "var = .2\n",
        "\n",
        "#データ作成\n",
        "x_train, y_train = gen_data(n_sample, harf_n_sample)\n",
        "\n",
        "# #データ表示\n",
        "# plt_data(x_train, y_train)\n",
        "\n",
        "x_train = add_one(x_train)\n",
        "max_iter=500\n",
        "eta = 0.01\n",
        "\n",
        "# 勾配降下法\n",
        "i, w1 = sgd(x_train, y_train, max_iter, eta, 100)\n",
        "print(' gd', i, w1)\n",
        "\n",
        "# 確率的勾配降下法\n",
        "i, w2 = sgd(x_train, y_train, max_iter, eta, 1)\n",
        "print('sgd', i, w2)\n",
        "\n",
        "xx0, xx1 = np.meshgrid(np.linspace(-5, 5, 100), np.linspace(-5, 5, 100))\n",
        "xx = np.array([xx0, xx1]).reshape(2, -1).T\n",
        "\n",
        "x_test = add_one(xx)\n",
        "proba1 = sigmoid(np.dot(x_test, w1))\n",
        "y_pred1 = np.zeros((100*100), dtype=np.bool)\n",
        "y_pred1[proba1>0.5]=1\n",
        "\n",
        "proba2 = sigmoid(np.dot(x_test, w2))\n",
        "y_pred2 = np.zeros((100*100), dtype=np.bool)\n",
        "y_pred2[proba2>0.5]=1\n",
        "\n",
        "plt.scatter(x_train[:, 1], x_train[:, 2], c=y_train, edgecolor=\"b\", s=50)\n",
        "plt.contourf(xx0, xx1, proba1.reshape(100, 100), alpha=0.2, levels=np.linspace(0, 1, 3))\n",
        "plt.contourf(xx0, xx1, proba2.reshape(100, 100), alpha=0.2, levels=np.linspace(0, 1, 3))\n",
        "plt.show()\n"
      ],
      "metadata": {
        "colab": {
          "base_uri": "https://localhost:8080/",
          "height": 300
        },
        "id": "NRnBO8mBqt7X",
        "outputId": "3cc6e214-d89b-48d3-d737-9ddc4a554ab8"
      },
      "execution_count": null,
      "outputs": [
        {
          "output_type": "stream",
          "name": "stdout",
          "text": [
            " gd 235 [-0.36954104  1.43223666  1.9395708 ]\n",
            "sgd 499 [-0.06327449  0.89565372  0.86971274]\n"
          ]
        },
        {
          "output_type": "display_data",
          "data": {
            "image/png": "[encoded data removed]",
            "text/plain": [
              "<Figure size 432x288 with 1 Axes>"
            ]
          },
          "metadata": {
            "needs_background": "light"
          }
        }
      ]
    },
    {
      "cell_type": "markdown",
      "source": [
        "# 主成分分析"
      ],
      "metadata": {
        "id": "8jmwtkstp0ac"
      }
    },
    {
      "cell_type": "markdown",
      "source": [
        "多変量のデータを持つ構造において、データの次元があまりに大きい場合、データが表現できる組み合わせが多くなりすぎてしまい学習がうまく行えないという問題が起こる。また仮に4次元以上のデータがあった場合、次元を3次元以下に削減することでデータの可視化が容易になる。\\\n",
        "\\\n",
        "主成分分析では、新たな変数 ${\\bf z}$ を主成分として、変数 ${\\bf x}$ と重みパラメータ ${\\bf w}$ の線形結合によって定義する。重み ${\\bf w}$ は ${\\bf z}$ の射影軸を表す方向ベクトルであるため、制約条件として $\\|{\\bf w}\\|=1$ を課して単位ベクトルとする。この時 ${\\bf z}$ の分散が最大となるような成分を第1主成分と呼ぶ。さらに第1主成分の射影軸に直交し、かつ分散が最大となるような成分を第2主成分と呼ぶ。最終的に、M次元のデータは第M次元までの主成分を持つ。\\\n",
        "\\\n",
        "今、$n$ 個の $m$ 次元のデータ ${\\bf X}$ を考える。${\\bf z}={\\bf X}{\\bf w}$ と線形変換すると、${\\bf z}$ の分散は\\\n",
        "\\\n",
        "$$\n",
        "\\begin{eqnarray}\n",
        "Var({\\bf z}) &=& \\frac{1}{n}\\bar{\\bf z}^T\\bar{\\bf z} \\\\\n",
        "&=&\\frac{1}{n}(\\bar{\\bf X}{\\bf w})^T(\\bar{\\bf X}{\\bf w}) \\\\\n",
        "&=& \\frac{1}{n}{\\bf w}^T\\bar{\\bf X}^T\\bar{\\bf X}{\\bf w}\\cdots(1)\n",
        "\\end{eqnarray}\n",
        "$$\n",
        "\\\n",
        "制約条件 $\\|{\\bf w}\\|=1$ より\\\n",
        "\\\n",
        "$$\n",
        "{\\bf w}^T{\\bf w}=1\\cdots(2)\n",
        "$$\n",
        "\\\n",
        "(2)式を満たし、かつ(1)式の分散 $Var({\\bf a})$ を最大化するためには、ラグランジュ関数 $L({\\bf w})$ について、$\\frac{\\partial L}{\\partial {\\bf w}}=0$ を解けばよい。\\\n",
        "\\\n",
        "$$\n",
        "L({\\bf w})=\\frac{1}{n}{\\bf w}^T\\bar{\\bf X}^T\\bar{\\bf X}{\\bf w}+λ(1-{\\bf w}^T{\\bf w})\n",
        "$$\n",
        "\\\n",
        "$$\n",
        "\\begin{eqnarray}\n",
        "\\frac{\\partial L}{\\partial {\\bf w}}\n",
        "&=& \\frac{1}{n}{\\bf w}^T\\{\\bar{\\bf X}^T\\bar{\\bf X}+{(\\bar{\\bf X}^T\\bar{\\bf X})}^T\\}\n",
        "-λ{\\bf w}^T(I+I^T) \\\\\n",
        "&=& 2\\frac{1}{n}{\\bf w}^T \\bar{\\bf X}^T\\bar{\\bf X}-2λ{\\bf w}^T=0\n",
        "\\end{eqnarray}\n",
        "$$\n",
        "\\\n",
        "$$\n",
        "\\frac{1}{n}{\\bf w}^T \\bar{\\bf X}^T\\bar{\\bf X}=λ{\\bf w}^T\n",
        "$$\n",
        "\\\n",
        "$$\n",
        "\\frac{1}{n}\\bar{\\bf X}^T\\bar{\\bf X}{\\bf w}=λ{\\bf w}\\cdots(3)\n",
        "$$\n",
        "\\\n",
        "(3)式を解くことは、入力データ ${\\bf X}$ の分散共分散行列 $Var({\\bf X})$ について固有値問題を解く事に帰着する。\n",
        "\n",
        "\n",
        "\n"
      ],
      "metadata": {
        "id": "-GsDJv-SDpNQ"
      }
    },
    {
      "cell_type": "code",
      "source": [
        "def gen_data(n_sample):\n",
        "    mean = [0, 0]\n",
        "    cov = [[2, 0.7], [0.7, 1]]\n",
        "    return np.random.multivariate_normal(mean, cov, n_sample)\n",
        "\n",
        "def get_moments(X):\n",
        "    mean_X = X.mean(axis=0)\n",
        "    cov_X = np.dot((X - mean_X).T, X - mean_X) / (len(X) - 1)\n",
        "    return mean_X, cov_X\n",
        "\n",
        "def plt_result(X, Z, eig_vectors):\n",
        "    plt.scatter(X[:, 0], X[:, 1])\n",
        "    plt.xlim(-5, 5)\n",
        "    plt.ylim(-5, 5)\n",
        "\n",
        "    # angles='xy'の記述がないとベクトルの向きが描画領域のスケールと一致しない\n",
        "    # 第１主成分\n",
        "    plt.plot(Z[:,0]*eig_vectors[0,0], Z[:,0]*eig_vectors[1,0])\n",
        "    plt.quiver(0, 0, eig_vectors[0,0], eig_vectors[1,0], angles='xy', width=0.01, scale=10, color='red')\n",
        "    # 第２主成分\n",
        "    plt.plot(Z[:,1]*eig_vectors[0,1], Z[:,1]*eig_vectors[1,1])\n",
        "    plt.quiver(0, 0, eig_vectors[0,1], eig_vectors[1,1], angles='xy', width=0.01, scale=5, color='green')\n",
        "\n",
        "n_sample = 100\n",
        "\n",
        "X = gen_data(n_sample)\n",
        "\n",
        "# 分散共分散行列を取得\n",
        "mean_X, cov_X = get_moments(X)\n",
        "\n",
        "# 固有値と固有ベクトルを計算\n",
        "eig_vals, eig_vectors = np.linalg.eigh(cov_X)\n",
        "\n",
        "# 固有値の大きい順にソート\n",
        "idx = np.argsort(eig_vals)[::-1]\n",
        "eig_vals = eig_vals[idx]\n",
        "eig_vectors = eig_vectors[:,idx]\n",
        "\n",
        "print('eig val', eig_vals)\n",
        "print('eig vec', eig_vectors.tolist())\n",
        "print('直交性の確認', np.dot(eig_vectors[:,0],eig_vectors[:,1]))\n",
        "\n",
        "# 主成分を計算\n",
        "Z = np.dot(X, eig_vectors)\n",
        "plt_result(X, Z, eig_vectors)\n"
      ],
      "metadata": {
        "colab": {
          "base_uri": "https://localhost:8080/",
          "height": 317
        },
        "id": "zcizqm61wUSo",
        "outputId": "24967b09-b569-480a-889b-8b7c20b9c152"
      },
      "execution_count": null,
      "outputs": [
        {
          "output_type": "stream",
          "name": "stdout",
          "text": [
            "eig val [2.27245954 0.61151812]\n",
            "eig vec [[-0.9101601307553581, 0.41425660692786703], [-0.41425660692786703, -0.9101601307553581]]\n",
            "直交性の確認 -1.9268598161119448e-17\n"
          ]
        },
        {
          "output_type": "display_data",
          "data": {
            "image/png": "[encoded data removed]",
            "text/plain": [
              "<Figure size 432x288 with 1 Axes>"
            ]
          },
          "metadata": {
            "needs_background": "light"
          }
        }
      ]
    },
    {
      "cell_type": "markdown",
      "source": [
        "# サポートベクターマシン"
      ],
      "metadata": {
        "id": "PzxL5b5cp30L"
      }
    },
    {
      "cell_type": "markdown",
      "source": [
        "サポートベクターマシン（SVM：Support Vector Machine)は教師あり学習を行う機械学習もでるの一種である。回帰と分類のどちらにも対応できるが、主に分類タスクに使われる。サポートベクトルは、データを分割する境界に最も近いベクトルである。またサポートベクトルと境界との距離をマージンと呼び、SVMではこのマージンを最大化するように学習を行う。\\\n",
        "\\\n",
        "SVMを2クラス分類に用いる場合、入力 $x$ がどちらのクラスに属するかの結果 $y$ は次式で得られる。\\\n",
        "\\\n",
        "$$\n",
        "y = sgnf(x)=\n",
        "\\begin{cases}\n",
        "  {+1 \\ (f(x) > 0)}\\\\\n",
        "  {-1 \\ (f(x) < 0)}\n",
        "\\end{cases}\n",
        "$$\n",
        "\\\n",
        "$f(x)$ は決定関数と呼ばれ、入力 ${\\bf x}$ とパラメータ ${\\bf w}, b$ との線形結合で表される。\\\n",
        "\\\n",
        "$$\n",
        "f(x)= {\\bf w}^T {\\bf x}+b\n",
        "$$\n",
        "\\\n",
        "SVMにおいてマージンを最大化することは、以下の最適化問題を解くことに帰着する。\\\n",
        "\\\n",
        "$$\n",
        "\\underset{w,b,\\xi}{\\text{min}}\\left[\\frac{1}{2} \\|{\\bf w}\\|^{2} +C\\sum_{i=1}^n \\xi_i\\right] \\\\\n",
        "{\\text{subject to}} \\qquad \n",
        "\\begin{cases}\n",
        "y_i({\\bf w}^T{\\bf x_i}+b) \\ge 1-\\xi_i \\\\\n",
        "\\xi_i \\ge 0 \n",
        "\\end{cases}\n",
        "\\quad(i=1,2,\\cdots ,n)\n",
        "$$\n",
        "\\\n",
        "ここで、$\\xi_i$ はマージン内にあるデータや誤分類されたデータの誤差を表す変数であり、スラック変数と呼ばれる。また $C$ はこの誤差をどの程度許容するかを制御するためのハイパーパラメータであり、正の値をとる。また $C\\rightarrow \\infty$ の時、$\\xi_i=0$ となり、全てのデータは境界で完全に分離される。このような分類をハードマージンと呼ぶ。それに対し $\\xi_i>0$ の場合をソフトマージンと呼ぶ。\\\n",
        "\\\n",
        "ここで以下のラグランジュ関数 $L$ を目的関数として導入すると、この最適化問題は目的関数 $L$ の最大化問題に置き換わる。\\\n",
        "\\\n",
        "$$\n",
        "L({\\bf w}, b, \\xi,{\\bf \\alpha},{\\bf \\mu}) = \\frac{1}{2} { \\|{\\bf w}\\| }^{2} +C\\sum_{i=1}^n \\xi_i\n",
        "-\\sum_{i=1}^n \\alpha_i \\left[ y_i({\\bf w}^T{\\bf x_i}+b)-1+\\xi_i \\right]\n",
        "-\\sum_{i=1}^n \\mu_i \\xi_i\\cdots(1)\n",
        "$$\n",
        "\\\n",
        "$L$ の最大化条件は\\\n",
        "\\\n",
        "$$\n",
        "\\begin{eqnarray}\n",
        "\\frac{\\partial L}{\\partial {\\bf w}} &=& {\\bf w}-\\sum_{i=1}^na_iy_i{\\bf x_i}=0 \\cdots(2) \\\\\n",
        "\\frac{\\partial L}{\\partial {\\bf b}} &=& -\\sum_{i=1}^n a_i y_i = 0 \\cdots(3)\\\\\n",
        "\\frac{\\partial L}{\\partial {\\bf \\xi}} &=& C-a_i-\\mu_i=0 \\quad (i=1,2,\\cdots,n)\\cdots(4)\n",
        "\\end{eqnarray}\n",
        "\\\\\n",
        "$$\n",
        "\\\n",
        "(2)~(4)式を(1)式に代入すると、\\\n",
        "\\\n",
        "$$\n",
        "\\begin{eqnarray}\n",
        "L({\\bf a}) &=& -\\frac{1}{2}\\sum_{i=1}^n \\sum_{j=1}^n a_ia_jy_iy_j{\\bf x_i}^T{\\bf x_j}+\\sum_{i=1}^na_i \\\\\n",
        "&=& -\\frac{1}{2} {\\bf a}^T{\\bf H}{\\bf a}+\\sum_{i=1}^na_i, \\ \n",
        "H_{ij}=y_iy_j{\\bf x_i}^T{\\bf x_j} \\\\\n",
        "\\end{eqnarray} \\cdots(5) \\\\\n",
        "\\text{subject to}\n",
        "\\begin{cases}\n",
        "{\\bf a}^T{\\bf y}=0 \\\\\n",
        "C \\ge a_i \\ge 0 \\quad(i=1,2,\\cdots,n)\n",
        "\\end{cases}\n",
        "$$\n",
        "\\\n",
        "(5)の最大化問題を解くには、勾配降下法によってパラメータ $a$ を更新する。制約条件 ${\\bf a}^T{\\bf y}=0$ については、 $z={\\bf a}^T{\\bf y}$ と置くいた場合、 $g(z)=\\frac{1}{2}z^2$ は $z=0$ で最小値をとる2次関数である。従って、 $g(z)$ の極値を勾配降下法で求めればよい。学習率を $\\eta_1,\\eta_2$ と置くと、${\\bf a}$ の更新式は\\\n",
        "\\\n",
        "$$\n",
        "{\\bf a}\\leftarrow {\\bf a}+\\eta_1\\frac{\\partial L}{\\partial {\\bf a}}\n",
        "={\\bf a}+\\eta_1({\\bf 1}-{\\bf Ha}) \\\\\n",
        "{\\bf a}\\leftarrow {\\bf a}-\\eta_2\\frac{\\partial g(z)}{\\partial {\\bf a}}\n",
        "=a-\\eta_2 z \\frac{\\partial z}{\\partial {\\bf a}} \n",
        "=a-\\eta_2({\\bf a}^T{\\bf y}){\\bf y}\\\\\n",
        "$$\n",
        "\\\n",
        "ここで$L$ が最大化された時、(1)式より\\\n",
        "\\\n",
        "$$\n",
        "\\alpha_i \\left[ y_i({\\bf w}^T{\\bf x_i}+b)-1+\\xi_i \\right]=0\n",
        "$$\n",
        "\\\n",
        "サポートベクトル以外の入力ベクトルについては、$y_i({\\bf w}^T{\\bf x_i}+b)>1$ であるため、$\\alpha_i=0 $ となる。さらに(2)式より\\\n",
        "\\\n",
        "$$\n",
        "{\\bf w}=\\sum_{i\\in S}a_iy_i{\\bf x_i}\n",
        "$$\n",
        "\\\n",
        "ただし、Sはサポートベクトルのインデックス集合である。さらに、サポートベクトルにおいては $y_i({\\bf w}^T{\\bf x_i}+b)=1$ が成り立つので、両辺に $y_i$ を掛けて式を整理すると\\\n",
        "\\\n",
        "$$\n",
        "b=y_i-{\\bf w}^T{\\bf x_i}=y_i-\\sum_{i\\in S}a_iy_i{\\bf x_i}^{T}{\\bf x_i}\n",
        "$$\n",
        "\\\n",
        "従って、\\\n",
        "\\\n",
        "$$\n",
        "b=\\frac{1}{S}\\sum_{s \\in S} \\left( y_{s}- \\sum_{i\\in S}a_iy_i{\\bf x_i}^{T}{\\bf x_i} \\right) \n",
        "$$\n",
        "\\\n",
        "線形分離でうまく分離できない場合、入力ベクトルを非線形変換し、データをより高い次元の空間に写像してから線形分離を行う。この時 ${\\bf x_i}\\rightarrow \\phi({\\bf x_i})$ の置き換えにより、$H_{ij}=y_iy_j\\phi({\\bf x_i})^T\\phi({\\bf x_j})$ となる。しかし、$\\phi({\\bf x_i})^T\\phi({\\bf x_j})$ の内積計算が膨大になってしまうため、この部分をさらにカーネル関数 $K({\\bf x_i},{\\bf x_j})$ で置き換える。\\\n",
        "\\\n",
        "$$\n",
        "H_{ij}=y_iy_jK({\\bf x_i},{\\bf x_j})\n",
        "$$\n",
        "\\\n",
        "カーネル関数には多項式カーネルやガウスカーネルなど様々な形があり、データに合わせて適切なカーネルを選択する必要がある。\n"
      ],
      "metadata": {
        "id": "bDIUjZQaFqXn"
      }
    },
    {
      "cell_type": "code",
      "execution_count": null,
      "metadata": {
        "id": "FjpEPfnPpOuC",
        "colab": {
          "base_uri": "https://localhost:8080/",
          "height": 282
        },
        "outputId": "90df2107-807f-4a10-bdb9-043c758d7097"
      },
      "outputs": [
        {
          "output_type": "execute_result",
          "data": {
            "text/plain": [
              "<matplotlib.contour.QuadContourSet at 0x7fbdcd879d90>"
            ]
          },
          "metadata": {},
          "execution_count": 6
        },
        {
          "output_type": "display_data",
          "data": {
            "image/png": "[encoded data removed]",
            "text/plain": [
              "<Figure size 432x288 with 1 Axes>"
            ]
          },
          "metadata": {
            "needs_background": "light"
          }
        }
      ],
      "source": [
        "def gen_data():\n",
        "    x0 = np.random.normal(size=50).reshape(-1, 2) - 2.\n",
        "    x1 = np.random.normal(size=50).reshape(-1, 2) + 2.\n",
        "    X_train = np.concatenate([x0, x1])\n",
        "    ys_train = np.concatenate([np.zeros(25), np.ones(25)]).astype(np.int)\n",
        "    ys_train[ys_train==0]=-1\n",
        "    return X_train, ys_train\n",
        "\n",
        "X_train, t = gen_data()\n",
        "\n",
        "n_samples = 50\n",
        "\n",
        "# 線形カーネル\n",
        "K = X_train.dot(X_train.T)\n",
        "H = np.outer(t, t) * K\n",
        "\n",
        "C = 1\n",
        "eta1 = 0.01\n",
        "eta2 = 0.001\n",
        "n_iter = 1000\n",
        "\n",
        "# a の更新\n",
        "a = np.ones(n_samples)\n",
        "for _ in range(n_iter):\n",
        "    grad = 1 - H.dot(a)\n",
        "    a += eta1 * grad\n",
        "    a -= eta2 * a.dot(t) * t\n",
        "    a = np.clip(a, 0, C)\n",
        "\n",
        "# サポートベクトル取得\n",
        "index = np.where(a > 1e-8)\n",
        "support_vectors = X_train[index]\n",
        "support_vector_t = t[index]\n",
        "support_vector_a = a[index]\n",
        "\n",
        "term2 = K[index][:, index].dot(support_vector_a * support_vector_t)\n",
        "b = (support_vector_t - term2).mean()\n",
        "\n",
        "# 予測マップ生成\n",
        "xx0, xx1 = np.meshgrid(np.linspace(-5, 5, 100), np.linspace(-5, 5, 100))\n",
        "xx = np.array([xx0, xx1]).reshape(2, -1).T\n",
        "\n",
        "X_test = xx\n",
        "y_project = np.ones(len(X_test)) * b\n",
        "for i in range(len(X_test)):\n",
        "    for a, sv_t, sv in zip(support_vector_a, support_vector_t, support_vectors):\n",
        "        y_project[i] += a * sv_t * sv.dot(X_test[i])\n",
        "y_pred = np.sign(y_project)\n",
        "\n",
        "# 訓練データを可視化\n",
        "plt.scatter(X_train[:, 0], X_train[:, 1], c=ys_train)\n",
        "\n",
        "# サポートベクトルを可視化\n",
        "plt.scatter(support_vectors[:, 0], support_vectors[:, 1], s=100, facecolors='none', edgecolors='k')\n",
        "\n",
        "# マージンと決定境界を可視化\n",
        "plt.contour(xx0, xx1, y_project.reshape(100, 100), colors='k', levels=[-1, 0, 1], alpha=0.5, linestyles=['--', '-', '--'])\n"
      ]
    }
  ]
}